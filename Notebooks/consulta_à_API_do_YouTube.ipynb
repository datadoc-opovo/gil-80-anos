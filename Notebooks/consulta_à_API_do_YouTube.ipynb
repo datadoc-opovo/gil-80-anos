{
  "nbformat": 4,
  "nbformat_minor": 0,
  "metadata": {
    "colab": {
      "name": "Consulta à API do YouTube.ipynb",
      "provenance": [],
      "collapsed_sections": [
        "e_0LF5mx8XKI",
        "SLRmqstYp7CK",
        "6045vcux9A2I",
        "rgb8p97O2i0l",
        "2EuYUS8t8blo"
      ]
    },
    "kernelspec": {
      "name": "python3",
      "display_name": "Python 3"
    },
    "language_info": {
      "name": "python"
    }
  },
  "cells": [
    {
      "cell_type": "markdown",
      "source": [
        "**INTRODUÇÃO**\n",
        "\n",
        "Nste notebook, acessamos a API do YouTube para coletar informações sobre os vídeos do artista Gilberto Gil, como visualizações, curtidas e comentários ao longo dos anos.\n",
        "\n",
        "**ÍNDICE**\n",
        "\n",
        "1. [Consulta à API](#Consulta)\n",
        "\n",
        "  1.1 [Instalação de bibliotecas e autenticação](#Instalacao)\n",
        "\n",
        "  1.2 [Estatísticas do canal](#Estatisticas)\n",
        "\n",
        "  1.3 [Informações de playlists e vídeos](#Playlists)\n",
        "\n",
        "2. [Leitura e análise dos dados coletados](#Analise)\n",
        "\n",
        "\n",
        "**EXPEDIENTE**\n",
        "\n",
        "**Edição DATADOC**\n",
        "\n",
        "Thays Lavor\n",
        "\n",
        "**Análise e visualização de dados**\n",
        "\n",
        "Gabriela Custódio"
      ],
      "metadata": {
        "id": "-gpMuinBpe9C"
      }
    },
    {
      "cell_type": "markdown",
      "source": [
        "# 1. Consulta à API <a name=\"Consulta\"></a>"
      ],
      "metadata": {
        "id": "e_0LF5mx8XKI"
      }
    },
    {
      "cell_type": "markdown",
      "source": [
        "## 1.1 Instalação de bibliotecas e autenticação <a name=\"Instalacao\"></a>"
      ],
      "metadata": {
        "id": "SLRmqstYp7CK"
      }
    },
    {
      "cell_type": "code",
      "source": [
        "!pip install --upgrade google-api-python-client"
      ],
      "metadata": {
        "id": "caauiYBiBmo3"
      },
      "execution_count": null,
      "outputs": []
    },
    {
      "cell_type": "code",
      "execution_count": null,
      "metadata": {
        "id": "bA_KXqskBj4x"
      },
      "outputs": [],
      "source": [
        "import pandas as pd\n",
        "from googleapiclient.discovery import build"
      ]
    },
    {
      "cell_type": "code",
      "source": [
        "youTubeApiKey = 'api_key'"
      ],
      "metadata": {
        "id": "lCEhrRmQFhq4"
      },
      "execution_count": null,
      "outputs": []
    },
    {
      "cell_type": "code",
      "source": [
        "youtube = build('youtube', 'v3', developerKey=youTubeApiKey)"
      ],
      "metadata": {
        "id": "B84FA5xNF5gs"
      },
      "execution_count": null,
      "outputs": []
    },
    {
      "cell_type": "markdown",
      "source": [
        "## 1.2 Estatísticas do canal <a name=\"Estatisticas\"></a>"
      ],
      "metadata": {
        "id": "6045vcux9A2I"
      }
    },
    {
      "cell_type": "code",
      "source": [
        "# id do canal do Gilberto Gil\n",
        "\n",
        "channel_id = 'UCStXqgyucmicmfhpvnJK6cw'"
      ],
      "metadata": {
        "id": "SUQANHIOK_B0"
      },
      "execution_count": null,
      "outputs": []
    },
    {
      "cell_type": "code",
      "source": [
        "# informações sobre canal\n",
        "\n",
        "canalGil = youtube.channels().list(part=['snippet','statistics'], id=channel_id).execute()"
      ],
      "metadata": {
        "id": "6jCNh3LZGBbm"
      },
      "execution_count": null,
      "outputs": []
    },
    {
      "cell_type": "code",
      "source": [
        "canalGil"
      ],
      "metadata": {
        "colab": {
          "base_uri": "https://localhost:8080/"
        },
        "id": "m3ij0GC5sNUu",
        "outputId": "2afc1c25-40dc-4475-bf8a-522bca268a01"
      },
      "execution_count": null,
      "outputs": [
        {
          "output_type": "execute_result",
          "data": {
            "text/plain": [
              "{'etag': '9b1MA_DOhRtnisgkqcFIdzQHUDg',\n",
              " 'items': [{'etag': 'fbe8atDpOF5xpBe2Og1bqklnyrM',\n",
              "   'id': 'UCStXqgyucmicmfhpvnJK6cw',\n",
              "   'kind': 'youtube#channel',\n",
              "   'snippet': {'customUrl': 'gilbertogilmusic',\n",
              "    'description': 'Canal oficial do cantor e compositor Gilberto Gil no YouTube\\n\\nSite Oficial: gilbertogil.com.br\\nFacebook: facebook.com/gilbertogiloficial\\nTwitter: twitter.com/gilbertogil\\nInstagram: @gilbertogil',\n",
              "    'localized': {'description': 'Canal oficial do cantor e compositor Gilberto Gil no YouTube\\n\\nSite Oficial: gilbertogil.com.br\\nFacebook: facebook.com/gilbertogiloficial\\nTwitter: twitter.com/gilbertogil\\nInstagram: @gilbertogil',\n",
              "     'title': 'Gilberto Gil'},\n",
              "    'publishedAt': '2007-12-12T22:24:59Z',\n",
              "    'thumbnails': {'default': {'height': 88,\n",
              "      'url': 'https://yt3.ggpht.com/ur0IVtEGbbz6jNAY9cWjFiN1n_14uve70k3gB4XR_SicLEgzwvXhS7eyDQDJgBEGxrakQyMT5Q=s88-c-k-c0x00ffffff-no-nd-rj',\n",
              "      'width': 88},\n",
              "     'high': {'height': 800,\n",
              "      'url': 'https://yt3.ggpht.com/ur0IVtEGbbz6jNAY9cWjFiN1n_14uve70k3gB4XR_SicLEgzwvXhS7eyDQDJgBEGxrakQyMT5Q=s800-c-k-c0x00ffffff-no-nd-rj',\n",
              "      'width': 800},\n",
              "     'medium': {'height': 240,\n",
              "      'url': 'https://yt3.ggpht.com/ur0IVtEGbbz6jNAY9cWjFiN1n_14uve70k3gB4XR_SicLEgzwvXhS7eyDQDJgBEGxrakQyMT5Q=s240-c-k-c0x00ffffff-no-nd-rj',\n",
              "      'width': 240}},\n",
              "    'title': 'Gilberto Gil'},\n",
              "   'statistics': {'hiddenSubscriberCount': False,\n",
              "    'subscriberCount': '414000',\n",
              "    'videoCount': '1051',\n",
              "    'viewCount': '95854112'}}],\n",
              " 'kind': 'youtube#channelListResponse',\n",
              " 'pageInfo': {'resultsPerPage': 5, 'totalResults': 1}}"
            ]
          },
          "metadata": {},
          "execution_count": 7
        }
      ]
    },
    {
      "cell_type": "code",
      "source": [
        "estatisticas_canal = pd.DataFrame.from_dict(canalGil['items'][0]['statistics'], orient='index').reset_index().rename(columns={'index': 'estatísticas', 0: 'valores'})"
      ],
      "metadata": {
        "id": "PaWZ3_T705gL"
      },
      "execution_count": null,
      "outputs": []
    },
    {
      "cell_type": "markdown",
      "source": [
        "## 1.3 Informações de playlists e vídeos <a name=\"Playlists\"></a>"
      ],
      "metadata": {
        "id": "rgb8p97O2i0l"
      }
    },
    {
      "cell_type": "code",
      "source": [
        "# coletar informações das playlists do canal\n",
        "\n",
        "nextPageToken = None\n",
        "\n",
        "playlists_gilberto_gil = []\n",
        "\n",
        "while True:\n",
        "  resultado = youtube.playlists().list(part=['snippet'], channelId=channel_id, pageToken=nextPageToken).execute()\n",
        "\n",
        "  playlists_gilberto_gil += resultado['items']\n",
        "\n",
        "  nextPageToken = resultado.get('nextPageToken')\n",
        "\n",
        "  if nextPageToken is None:\n",
        "    break\n",
        "\n",
        "# criar lista com os Ids das playlists\n",
        "\n",
        "ids_playlists = list(map(lambda x: x['id'], playlists_gilberto_gil))\n",
        "nome_playlists = list(map(lambda x: x['snippet']['title'], playlists_gilberto_gil))\n",
        "\n",
        "# criar dataframe com informações de id e nome das playlists\n",
        "info_playlists = dict(zip(ids_playlists, nome_playlists))\n",
        "df_info_playlists = pd.DataFrame.from_dict(info_playlists, orient='index').reset_index().rename(columns={'index': 'id_playlist', 0:'nome_playlist'})"
      ],
      "metadata": {
        "id": "hI-CwwDJHhaY"
      },
      "execution_count": null,
      "outputs": []
    },
    {
      "cell_type": "code",
      "source": [
        "df_info_playlists.head()"
      ],
      "metadata": {
        "colab": {
          "base_uri": "https://localhost:8080/",
          "height": 206
        },
        "id": "XnbuyavODsPY",
        "outputId": "ebfe44a4-24e2-460f-d2d5-64bc551a97b9"
      },
      "execution_count": null,
      "outputs": [
        {
          "output_type": "execute_result",
          "data": {
            "text/plain": [
              "                          id_playlist  \\\n",
              "0  PLsYFv2PLHYDyxp25_7KtFtIEtvmw_q6g8   \n",
              "1  PLsYFv2PLHYDy6vH_QAMnSWmSemFw_C0kx   \n",
              "2  PLsYFv2PLHYDxWdTWpRFQmfFOqcj1n5nDY   \n",
              "3  PLsYFv2PLHYDwrvBMCUCgSy2pbY3jILE95   \n",
              "4  PLsYFv2PLHYDyPnWY7Kcdd8qyQjjTnL57I   \n",
              "\n",
              "                                  nome_playlist  \n",
              "0  Coleção Gilberto Gil | Google Arts & Culture  \n",
              "1                                        Shorts  \n",
              "2                                 DUETOS DO GIL  \n",
              "3                              MÊS DAS MULHERES  \n",
              "4                      MÊS DA CONSCIÊNCIA NEGRA  "
            ],
            "text/html": [
              "\n",
              "  <div id=\"df-3bcde967-3e94-4b33-a40c-fc8f2f7bf1a1\">\n",
              "    <div class=\"colab-df-container\">\n",
              "      <div>\n",
              "<style scoped>\n",
              "    .dataframe tbody tr th:only-of-type {\n",
              "        vertical-align: middle;\n",
              "    }\n",
              "\n",
              "    .dataframe tbody tr th {\n",
              "        vertical-align: top;\n",
              "    }\n",
              "\n",
              "    .dataframe thead th {\n",
              "        text-align: right;\n",
              "    }\n",
              "</style>\n",
              "<table border=\"1\" class=\"dataframe\">\n",
              "  <thead>\n",
              "    <tr style=\"text-align: right;\">\n",
              "      <th></th>\n",
              "      <th>id_playlist</th>\n",
              "      <th>nome_playlist</th>\n",
              "    </tr>\n",
              "  </thead>\n",
              "  <tbody>\n",
              "    <tr>\n",
              "      <th>0</th>\n",
              "      <td>PLsYFv2PLHYDyxp25_7KtFtIEtvmw_q6g8</td>\n",
              "      <td>Coleção Gilberto Gil | Google Arts &amp; Culture</td>\n",
              "    </tr>\n",
              "    <tr>\n",
              "      <th>1</th>\n",
              "      <td>PLsYFv2PLHYDy6vH_QAMnSWmSemFw_C0kx</td>\n",
              "      <td>Shorts</td>\n",
              "    </tr>\n",
              "    <tr>\n",
              "      <th>2</th>\n",
              "      <td>PLsYFv2PLHYDxWdTWpRFQmfFOqcj1n5nDY</td>\n",
              "      <td>DUETOS DO GIL</td>\n",
              "    </tr>\n",
              "    <tr>\n",
              "      <th>3</th>\n",
              "      <td>PLsYFv2PLHYDwrvBMCUCgSy2pbY3jILE95</td>\n",
              "      <td>MÊS DAS MULHERES</td>\n",
              "    </tr>\n",
              "    <tr>\n",
              "      <th>4</th>\n",
              "      <td>PLsYFv2PLHYDyPnWY7Kcdd8qyQjjTnL57I</td>\n",
              "      <td>MÊS DA CONSCIÊNCIA NEGRA</td>\n",
              "    </tr>\n",
              "  </tbody>\n",
              "</table>\n",
              "</div>\n",
              "      <button class=\"colab-df-convert\" onclick=\"convertToInteractive('df-3bcde967-3e94-4b33-a40c-fc8f2f7bf1a1')\"\n",
              "              title=\"Convert this dataframe to an interactive table.\"\n",
              "              style=\"display:none;\">\n",
              "        \n",
              "  <svg xmlns=\"http://www.w3.org/2000/svg\" height=\"24px\"viewBox=\"0 0 24 24\"\n",
              "       width=\"24px\">\n",
              "    <path d=\"M0 0h24v24H0V0z\" fill=\"none\"/>\n",
              "    <path d=\"M18.56 5.44l.94 2.06.94-2.06 2.06-.94-2.06-.94-.94-2.06-.94 2.06-2.06.94zm-11 1L8.5 8.5l.94-2.06 2.06-.94-2.06-.94L8.5 2.5l-.94 2.06-2.06.94zm10 10l.94 2.06.94-2.06 2.06-.94-2.06-.94-.94-2.06-.94 2.06-2.06.94z\"/><path d=\"M17.41 7.96l-1.37-1.37c-.4-.4-.92-.59-1.43-.59-.52 0-1.04.2-1.43.59L10.3 9.45l-7.72 7.72c-.78.78-.78 2.05 0 2.83L4 21.41c.39.39.9.59 1.41.59.51 0 1.02-.2 1.41-.59l7.78-7.78 2.81-2.81c.8-.78.8-2.07 0-2.86zM5.41 20L4 18.59l7.72-7.72 1.47 1.35L5.41 20z\"/>\n",
              "  </svg>\n",
              "      </button>\n",
              "      \n",
              "  <style>\n",
              "    .colab-df-container {\n",
              "      display:flex;\n",
              "      flex-wrap:wrap;\n",
              "      gap: 12px;\n",
              "    }\n",
              "\n",
              "    .colab-df-convert {\n",
              "      background-color: #E8F0FE;\n",
              "      border: none;\n",
              "      border-radius: 50%;\n",
              "      cursor: pointer;\n",
              "      display: none;\n",
              "      fill: #1967D2;\n",
              "      height: 32px;\n",
              "      padding: 0 0 0 0;\n",
              "      width: 32px;\n",
              "    }\n",
              "\n",
              "    .colab-df-convert:hover {\n",
              "      background-color: #E2EBFA;\n",
              "      box-shadow: 0px 1px 2px rgba(60, 64, 67, 0.3), 0px 1px 3px 1px rgba(60, 64, 67, 0.15);\n",
              "      fill: #174EA6;\n",
              "    }\n",
              "\n",
              "    [theme=dark] .colab-df-convert {\n",
              "      background-color: #3B4455;\n",
              "      fill: #D2E3FC;\n",
              "    }\n",
              "\n",
              "    [theme=dark] .colab-df-convert:hover {\n",
              "      background-color: #434B5C;\n",
              "      box-shadow: 0px 1px 3px 1px rgba(0, 0, 0, 0.15);\n",
              "      filter: drop-shadow(0px 1px 2px rgba(0, 0, 0, 0.3));\n",
              "      fill: #FFFFFF;\n",
              "    }\n",
              "  </style>\n",
              "\n",
              "      <script>\n",
              "        const buttonEl =\n",
              "          document.querySelector('#df-3bcde967-3e94-4b33-a40c-fc8f2f7bf1a1 button.colab-df-convert');\n",
              "        buttonEl.style.display =\n",
              "          google.colab.kernel.accessAllowed ? 'block' : 'none';\n",
              "\n",
              "        async function convertToInteractive(key) {\n",
              "          const element = document.querySelector('#df-3bcde967-3e94-4b33-a40c-fc8f2f7bf1a1');\n",
              "          const dataTable =\n",
              "            await google.colab.kernel.invokeFunction('convertToInteractive',\n",
              "                                                     [key], {});\n",
              "          if (!dataTable) return;\n",
              "\n",
              "          const docLinkHtml = 'Like what you see? Visit the ' +\n",
              "            '<a target=\"_blank\" href=https://colab.research.google.com/notebooks/data_table.ipynb>data table notebook</a>'\n",
              "            + ' to learn more about interactive tables.';\n",
              "          element.innerHTML = '';\n",
              "          dataTable['output_type'] = 'display_data';\n",
              "          await google.colab.output.renderOutput(dataTable, element);\n",
              "          const docLink = document.createElement('div');\n",
              "          docLink.innerHTML = docLinkHtml;\n",
              "          element.appendChild(docLink);\n",
              "        }\n",
              "      </script>\n",
              "    </div>\n",
              "  </div>\n",
              "  "
            ]
          },
          "metadata": {},
          "execution_count": 20
        }
      ]
    },
    {
      "cell_type": "code",
      "source": [
        "# coletar informações dos vídeos das playlists\n",
        "\n",
        "nextPageToken = None\n",
        "\n",
        "itens_playlists = []\n",
        "\n",
        "for playlist in ids_playlists:\n",
        "  while True:\n",
        "    videos_playlists = youtube.playlistItems().list(part='snippet', playlistId=playlist, pageToken=nextPageToken).execute()\n",
        "    itens_playlists += videos_playlists['items']\n",
        "\n",
        "    nextPageToken = videos_playlists.get('nextPageToken')\n",
        "\n",
        "    if nextPageToken is None:\n",
        "      break\n",
        "\n",
        "# criar lista com Ids de cada vídeo\n",
        "ids_videos = list(map(lambda x: x['snippet']['resourceId']['videoId'], itens_playlists))\n",
        "nomes_videos = list(map(lambda x: x['snippet']['title'], itens_playlists))\n",
        "videos_playlist_id = list(map(lambda x: x['snippet']['playlistId'], itens_playlists))"
      ],
      "metadata": {
        "id": "gVqQwSTVSsoE"
      },
      "execution_count": null,
      "outputs": []
    },
    {
      "cell_type": "code",
      "source": [
        "# criar dataframe com informações sobre vídeos e playlists\n",
        "\n",
        "infos_videos_playlist = list(zip(nomes_videos, ids_videos, videos_playlist_id))\n",
        "df_infos_videos_playlist = pd.DataFrame.from_records(infos_videos_playlist, columns=['titulo_video', 'id_video', 'id_playlist'])\n",
        "df_infos_videos_playlist_novo = df_infos_videos_playlist.merge(df_info_playlists, on='id_playlist', how='left')"
      ],
      "metadata": {
        "id": "jCwnA8Q-JR-n"
      },
      "execution_count": null,
      "outputs": []
    },
    {
      "cell_type": "code",
      "source": [
        "df_infos_videos_playlist_novo.head()"
      ],
      "metadata": {
        "colab": {
          "base_uri": "https://localhost:8080/",
          "height": 206
        },
        "id": "zaJ9aVBJXhos",
        "outputId": "bd955df2-9e9a-4414-96c5-e1fb6509f4ed"
      },
      "execution_count": null,
      "outputs": [
        {
          "output_type": "execute_result",
          "data": {
            "text/plain": [
              "                                        titulo_video     id_video  \\\n",
              "0               Gilberto Gil no show do álbum Quanta  L0ix9byL4Wc   \n",
              "1                              #Shorts | Elza Eterna  5YdDCP7aXXY   \n",
              "2  #Shorts | Gilberto Gil no Desfile da Mangueira...  NPUuX9jJq3c   \n",
              "3     #Shorts | Jovem, Tire o seu Título de Eleitor!  HrOk_9uyFWI   \n",
              "4  #Shorts | Gilberto Gil no #RockinRio | 04 de S...  zz_zfshPtoY   \n",
              "\n",
              "                          id_playlist  \\\n",
              "0  PLsYFv2PLHYDyxp25_7KtFtIEtvmw_q6g8   \n",
              "1  PLsYFv2PLHYDy6vH_QAMnSWmSemFw_C0kx   \n",
              "2  PLsYFv2PLHYDy6vH_QAMnSWmSemFw_C0kx   \n",
              "3  PLsYFv2PLHYDy6vH_QAMnSWmSemFw_C0kx   \n",
              "4  PLsYFv2PLHYDy6vH_QAMnSWmSemFw_C0kx   \n",
              "\n",
              "                                  nome_playlist  \n",
              "0  Coleção Gilberto Gil | Google Arts & Culture  \n",
              "1                                        Shorts  \n",
              "2                                        Shorts  \n",
              "3                                        Shorts  \n",
              "4                                        Shorts  "
            ],
            "text/html": [
              "\n",
              "  <div id=\"df-2b4b5b4a-72c3-443d-8a10-f9b21fb90c43\">\n",
              "    <div class=\"colab-df-container\">\n",
              "      <div>\n",
              "<style scoped>\n",
              "    .dataframe tbody tr th:only-of-type {\n",
              "        vertical-align: middle;\n",
              "    }\n",
              "\n",
              "    .dataframe tbody tr th {\n",
              "        vertical-align: top;\n",
              "    }\n",
              "\n",
              "    .dataframe thead th {\n",
              "        text-align: right;\n",
              "    }\n",
              "</style>\n",
              "<table border=\"1\" class=\"dataframe\">\n",
              "  <thead>\n",
              "    <tr style=\"text-align: right;\">\n",
              "      <th></th>\n",
              "      <th>titulo_video</th>\n",
              "      <th>id_video</th>\n",
              "      <th>id_playlist</th>\n",
              "      <th>nome_playlist</th>\n",
              "    </tr>\n",
              "  </thead>\n",
              "  <tbody>\n",
              "    <tr>\n",
              "      <th>0</th>\n",
              "      <td>Gilberto Gil no show do álbum Quanta</td>\n",
              "      <td>L0ix9byL4Wc</td>\n",
              "      <td>PLsYFv2PLHYDyxp25_7KtFtIEtvmw_q6g8</td>\n",
              "      <td>Coleção Gilberto Gil | Google Arts &amp; Culture</td>\n",
              "    </tr>\n",
              "    <tr>\n",
              "      <th>1</th>\n",
              "      <td>#Shorts | Elza Eterna</td>\n",
              "      <td>5YdDCP7aXXY</td>\n",
              "      <td>PLsYFv2PLHYDy6vH_QAMnSWmSemFw_C0kx</td>\n",
              "      <td>Shorts</td>\n",
              "    </tr>\n",
              "    <tr>\n",
              "      <th>2</th>\n",
              "      <td>#Shorts | Gilberto Gil no Desfile da Mangueira...</td>\n",
              "      <td>NPUuX9jJq3c</td>\n",
              "      <td>PLsYFv2PLHYDy6vH_QAMnSWmSemFw_C0kx</td>\n",
              "      <td>Shorts</td>\n",
              "    </tr>\n",
              "    <tr>\n",
              "      <th>3</th>\n",
              "      <td>#Shorts | Jovem, Tire o seu Título de Eleitor!</td>\n",
              "      <td>HrOk_9uyFWI</td>\n",
              "      <td>PLsYFv2PLHYDy6vH_QAMnSWmSemFw_C0kx</td>\n",
              "      <td>Shorts</td>\n",
              "    </tr>\n",
              "    <tr>\n",
              "      <th>4</th>\n",
              "      <td>#Shorts | Gilberto Gil no #RockinRio | 04 de S...</td>\n",
              "      <td>zz_zfshPtoY</td>\n",
              "      <td>PLsYFv2PLHYDy6vH_QAMnSWmSemFw_C0kx</td>\n",
              "      <td>Shorts</td>\n",
              "    </tr>\n",
              "  </tbody>\n",
              "</table>\n",
              "</div>\n",
              "      <button class=\"colab-df-convert\" onclick=\"convertToInteractive('df-2b4b5b4a-72c3-443d-8a10-f9b21fb90c43')\"\n",
              "              title=\"Convert this dataframe to an interactive table.\"\n",
              "              style=\"display:none;\">\n",
              "        \n",
              "  <svg xmlns=\"http://www.w3.org/2000/svg\" height=\"24px\"viewBox=\"0 0 24 24\"\n",
              "       width=\"24px\">\n",
              "    <path d=\"M0 0h24v24H0V0z\" fill=\"none\"/>\n",
              "    <path d=\"M18.56 5.44l.94 2.06.94-2.06 2.06-.94-2.06-.94-.94-2.06-.94 2.06-2.06.94zm-11 1L8.5 8.5l.94-2.06 2.06-.94-2.06-.94L8.5 2.5l-.94 2.06-2.06.94zm10 10l.94 2.06.94-2.06 2.06-.94-2.06-.94-.94-2.06-.94 2.06-2.06.94z\"/><path d=\"M17.41 7.96l-1.37-1.37c-.4-.4-.92-.59-1.43-.59-.52 0-1.04.2-1.43.59L10.3 9.45l-7.72 7.72c-.78.78-.78 2.05 0 2.83L4 21.41c.39.39.9.59 1.41.59.51 0 1.02-.2 1.41-.59l7.78-7.78 2.81-2.81c.8-.78.8-2.07 0-2.86zM5.41 20L4 18.59l7.72-7.72 1.47 1.35L5.41 20z\"/>\n",
              "  </svg>\n",
              "      </button>\n",
              "      \n",
              "  <style>\n",
              "    .colab-df-container {\n",
              "      display:flex;\n",
              "      flex-wrap:wrap;\n",
              "      gap: 12px;\n",
              "    }\n",
              "\n",
              "    .colab-df-convert {\n",
              "      background-color: #E8F0FE;\n",
              "      border: none;\n",
              "      border-radius: 50%;\n",
              "      cursor: pointer;\n",
              "      display: none;\n",
              "      fill: #1967D2;\n",
              "      height: 32px;\n",
              "      padding: 0 0 0 0;\n",
              "      width: 32px;\n",
              "    }\n",
              "\n",
              "    .colab-df-convert:hover {\n",
              "      background-color: #E2EBFA;\n",
              "      box-shadow: 0px 1px 2px rgba(60, 64, 67, 0.3), 0px 1px 3px 1px rgba(60, 64, 67, 0.15);\n",
              "      fill: #174EA6;\n",
              "    }\n",
              "\n",
              "    [theme=dark] .colab-df-convert {\n",
              "      background-color: #3B4455;\n",
              "      fill: #D2E3FC;\n",
              "    }\n",
              "\n",
              "    [theme=dark] .colab-df-convert:hover {\n",
              "      background-color: #434B5C;\n",
              "      box-shadow: 0px 1px 3px 1px rgba(0, 0, 0, 0.15);\n",
              "      filter: drop-shadow(0px 1px 2px rgba(0, 0, 0, 0.3));\n",
              "      fill: #FFFFFF;\n",
              "    }\n",
              "  </style>\n",
              "\n",
              "      <script>\n",
              "        const buttonEl =\n",
              "          document.querySelector('#df-2b4b5b4a-72c3-443d-8a10-f9b21fb90c43 button.colab-df-convert');\n",
              "        buttonEl.style.display =\n",
              "          google.colab.kernel.accessAllowed ? 'block' : 'none';\n",
              "\n",
              "        async function convertToInteractive(key) {\n",
              "          const element = document.querySelector('#df-2b4b5b4a-72c3-443d-8a10-f9b21fb90c43');\n",
              "          const dataTable =\n",
              "            await google.colab.kernel.invokeFunction('convertToInteractive',\n",
              "                                                     [key], {});\n",
              "          if (!dataTable) return;\n",
              "\n",
              "          const docLinkHtml = 'Like what you see? Visit the ' +\n",
              "            '<a target=\"_blank\" href=https://colab.research.google.com/notebooks/data_table.ipynb>data table notebook</a>'\n",
              "            + ' to learn more about interactive tables.';\n",
              "          element.innerHTML = '';\n",
              "          dataTable['output_type'] = 'display_data';\n",
              "          await google.colab.output.renderOutput(dataTable, element);\n",
              "          const docLink = document.createElement('div');\n",
              "          docLink.innerHTML = docLinkHtml;\n",
              "          element.appendChild(docLink);\n",
              "        }\n",
              "      </script>\n",
              "    </div>\n",
              "  </div>\n",
              "  "
            ]
          },
          "metadata": {},
          "execution_count": 19
        }
      ]
    },
    {
      "cell_type": "code",
      "source": [
        "# criar lista com dados sobre cada vídeo\n",
        "\n",
        "lista_dados_video = []\n",
        "\n",
        "for id_video in ids_videos:\n",
        "  dados_video_gil = youtube.videos().list(part=['snippet', 'statistics', 'player', 'recordingDetails'], id=id_video).execute()\n",
        "  lista_dados_video += dados_video_gil['items']\n",
        "\n",
        "dados_videos_gil = []\n",
        "\n",
        "for dados_video in lista_dados_video:\n",
        "  for k, v in dados_video.items():\n",
        "    titulo_video = dados_video['snippet']['title']\n",
        "    id_video = dados_video['id']\n",
        "    data_publicacao = dados_video['snippet']['publishedAt']\n",
        "    imagem = dados_video['snippet']['thumbnails']['medium']['url']\n",
        "    for k, v in dados_video['player'].items():\n",
        "      player_video = dados_video['player']['embedHtml']\n",
        "    for k, v in dados_video['statistics'].items():\n",
        "      estatisticas = dados_video['statistics']\n",
        "      if k == 'commentCount':\n",
        "        comentarios = dados_video['statistics']['commentCount']\n",
        "      elif k == 'favoriteCount':\n",
        "        favoritos = dados_video['statistics']['favoriteCount']\n",
        "      elif k == 'likeCount':\n",
        "        likes = dados_video['statistics']['likeCount']\n",
        "      elif k == 'viewCount':\n",
        "        visualizacoes = dados_video['statistics']['viewCount']\n",
        "  dados_videos_gil.append((titulo_video, id_video, data_publicacao, imagem, player_video, estatisticas, comentarios, favoritos, likes, visualizacoes))"
      ],
      "metadata": {
        "id": "86XIKvKyyGGc"
      },
      "execution_count": null,
      "outputs": []
    },
    {
      "cell_type": "code",
      "source": [
        "# dataframe com dados dos vídeos do canal de Gilberto Gil\n",
        "\n",
        "df_videos = pd.DataFrame.from_records(dados_videos_gil, columns=['titulo_video', 'id_video', 'data_publicacao', 'imagem', 'player_video', 'estatisticas', 'comentarios', 'favoritos', 'likes', 'visualizacoes'])\n",
        "df_videos_novo = df_videos.merge(df_infos_videos_playlist_novo, on=['titulo_video', 'id_video'], how='left')"
      ],
      "metadata": {
        "id": "bakwu6kbZ82Z"
      },
      "execution_count": null,
      "outputs": []
    },
    {
      "cell_type": "code",
      "source": [
        "# df_videos_novo.to_csv('df_videos_gil_youtube.csv', encoding='utf-8', index=False)"
      ],
      "metadata": {
        "id": "XTvC86RWu7AZ"
      },
      "execution_count": null,
      "outputs": []
    },
    {
      "cell_type": "code",
      "source": [
        "df_videos_novo.head(2)"
      ],
      "metadata": {
        "id": "X-_wtc9DGoTL",
        "colab": {
          "base_uri": "https://localhost:8080/",
          "height": 280
        },
        "outputId": "a30e6f93-3a31-4fc1-9881-bc9a235456f9"
      },
      "execution_count": null,
      "outputs": [
        {
          "output_type": "execute_result",
          "data": {
            "text/plain": [
              "                           titulo_video     id_video       data_publicacao  \\\n",
              "0  Gilberto Gil no show do álbum Quanta  L0ix9byL4Wc  2021-02-22T16:44:09Z   \n",
              "1                 #Shorts | Elza Eterna  5YdDCP7aXXY  2022-01-26T18:50:14Z   \n",
              "\n",
              "                                             imagem  \\\n",
              "0  https://i.ytimg.com/vi/L0ix9byL4Wc/mqdefault.jpg   \n",
              "1  https://i.ytimg.com/vi/5YdDCP7aXXY/mqdefault.jpg   \n",
              "\n",
              "                                        player_video  \\\n",
              "0  <iframe width=\"480\" height=\"270\" src=\"//www.yo...   \n",
              "1  <iframe width=\"480\" height=\"360\" src=\"//www.yo...   \n",
              "\n",
              "                                        estatisticas comentarios favoritos  \\\n",
              "0  {'viewCount': '248', 'likeCount': '24', 'favor...           3         0   \n",
              "1  {'viewCount': '3666', 'likeCount': '298', 'fav...           9         0   \n",
              "\n",
              "  likes visualizacoes                         id_playlist  \\\n",
              "0    24           248  PLsYFv2PLHYDyxp25_7KtFtIEtvmw_q6g8   \n",
              "1   298          3666  PLsYFv2PLHYDy6vH_QAMnSWmSemFw_C0kx   \n",
              "\n",
              "                                  nome_playlist  \n",
              "0  Coleção Gilberto Gil | Google Arts & Culture  \n",
              "1                                        Shorts  "
            ],
            "text/html": [
              "\n",
              "  <div id=\"df-298b04a3-c3c4-4364-a580-b9ccfff06c37\">\n",
              "    <div class=\"colab-df-container\">\n",
              "      <div>\n",
              "<style scoped>\n",
              "    .dataframe tbody tr th:only-of-type {\n",
              "        vertical-align: middle;\n",
              "    }\n",
              "\n",
              "    .dataframe tbody tr th {\n",
              "        vertical-align: top;\n",
              "    }\n",
              "\n",
              "    .dataframe thead th {\n",
              "        text-align: right;\n",
              "    }\n",
              "</style>\n",
              "<table border=\"1\" class=\"dataframe\">\n",
              "  <thead>\n",
              "    <tr style=\"text-align: right;\">\n",
              "      <th></th>\n",
              "      <th>titulo_video</th>\n",
              "      <th>id_video</th>\n",
              "      <th>data_publicacao</th>\n",
              "      <th>imagem</th>\n",
              "      <th>player_video</th>\n",
              "      <th>estatisticas</th>\n",
              "      <th>comentarios</th>\n",
              "      <th>favoritos</th>\n",
              "      <th>likes</th>\n",
              "      <th>visualizacoes</th>\n",
              "      <th>id_playlist</th>\n",
              "      <th>nome_playlist</th>\n",
              "    </tr>\n",
              "  </thead>\n",
              "  <tbody>\n",
              "    <tr>\n",
              "      <th>0</th>\n",
              "      <td>Gilberto Gil no show do álbum Quanta</td>\n",
              "      <td>L0ix9byL4Wc</td>\n",
              "      <td>2021-02-22T16:44:09Z</td>\n",
              "      <td>https://i.ytimg.com/vi/L0ix9byL4Wc/mqdefault.jpg</td>\n",
              "      <td>&lt;iframe width=\"480\" height=\"270\" src=\"//www.yo...</td>\n",
              "      <td>{'viewCount': '248', 'likeCount': '24', 'favor...</td>\n",
              "      <td>3</td>\n",
              "      <td>0</td>\n",
              "      <td>24</td>\n",
              "      <td>248</td>\n",
              "      <td>PLsYFv2PLHYDyxp25_7KtFtIEtvmw_q6g8</td>\n",
              "      <td>Coleção Gilberto Gil | Google Arts &amp; Culture</td>\n",
              "    </tr>\n",
              "    <tr>\n",
              "      <th>1</th>\n",
              "      <td>#Shorts | Elza Eterna</td>\n",
              "      <td>5YdDCP7aXXY</td>\n",
              "      <td>2022-01-26T18:50:14Z</td>\n",
              "      <td>https://i.ytimg.com/vi/5YdDCP7aXXY/mqdefault.jpg</td>\n",
              "      <td>&lt;iframe width=\"480\" height=\"360\" src=\"//www.yo...</td>\n",
              "      <td>{'viewCount': '3666', 'likeCount': '298', 'fav...</td>\n",
              "      <td>9</td>\n",
              "      <td>0</td>\n",
              "      <td>298</td>\n",
              "      <td>3666</td>\n",
              "      <td>PLsYFv2PLHYDy6vH_QAMnSWmSemFw_C0kx</td>\n",
              "      <td>Shorts</td>\n",
              "    </tr>\n",
              "  </tbody>\n",
              "</table>\n",
              "</div>\n",
              "      <button class=\"colab-df-convert\" onclick=\"convertToInteractive('df-298b04a3-c3c4-4364-a580-b9ccfff06c37')\"\n",
              "              title=\"Convert this dataframe to an interactive table.\"\n",
              "              style=\"display:none;\">\n",
              "        \n",
              "  <svg xmlns=\"http://www.w3.org/2000/svg\" height=\"24px\"viewBox=\"0 0 24 24\"\n",
              "       width=\"24px\">\n",
              "    <path d=\"M0 0h24v24H0V0z\" fill=\"none\"/>\n",
              "    <path d=\"M18.56 5.44l.94 2.06.94-2.06 2.06-.94-2.06-.94-.94-2.06-.94 2.06-2.06.94zm-11 1L8.5 8.5l.94-2.06 2.06-.94-2.06-.94L8.5 2.5l-.94 2.06-2.06.94zm10 10l.94 2.06.94-2.06 2.06-.94-2.06-.94-.94-2.06-.94 2.06-2.06.94z\"/><path d=\"M17.41 7.96l-1.37-1.37c-.4-.4-.92-.59-1.43-.59-.52 0-1.04.2-1.43.59L10.3 9.45l-7.72 7.72c-.78.78-.78 2.05 0 2.83L4 21.41c.39.39.9.59 1.41.59.51 0 1.02-.2 1.41-.59l7.78-7.78 2.81-2.81c.8-.78.8-2.07 0-2.86zM5.41 20L4 18.59l7.72-7.72 1.47 1.35L5.41 20z\"/>\n",
              "  </svg>\n",
              "      </button>\n",
              "      \n",
              "  <style>\n",
              "    .colab-df-container {\n",
              "      display:flex;\n",
              "      flex-wrap:wrap;\n",
              "      gap: 12px;\n",
              "    }\n",
              "\n",
              "    .colab-df-convert {\n",
              "      background-color: #E8F0FE;\n",
              "      border: none;\n",
              "      border-radius: 50%;\n",
              "      cursor: pointer;\n",
              "      display: none;\n",
              "      fill: #1967D2;\n",
              "      height: 32px;\n",
              "      padding: 0 0 0 0;\n",
              "      width: 32px;\n",
              "    }\n",
              "\n",
              "    .colab-df-convert:hover {\n",
              "      background-color: #E2EBFA;\n",
              "      box-shadow: 0px 1px 2px rgba(60, 64, 67, 0.3), 0px 1px 3px 1px rgba(60, 64, 67, 0.15);\n",
              "      fill: #174EA6;\n",
              "    }\n",
              "\n",
              "    [theme=dark] .colab-df-convert {\n",
              "      background-color: #3B4455;\n",
              "      fill: #D2E3FC;\n",
              "    }\n",
              "\n",
              "    [theme=dark] .colab-df-convert:hover {\n",
              "      background-color: #434B5C;\n",
              "      box-shadow: 0px 1px 3px 1px rgba(0, 0, 0, 0.15);\n",
              "      filter: drop-shadow(0px 1px 2px rgba(0, 0, 0, 0.3));\n",
              "      fill: #FFFFFF;\n",
              "    }\n",
              "  </style>\n",
              "\n",
              "      <script>\n",
              "        const buttonEl =\n",
              "          document.querySelector('#df-298b04a3-c3c4-4364-a580-b9ccfff06c37 button.colab-df-convert');\n",
              "        buttonEl.style.display =\n",
              "          google.colab.kernel.accessAllowed ? 'block' : 'none';\n",
              "\n",
              "        async function convertToInteractive(key) {\n",
              "          const element = document.querySelector('#df-298b04a3-c3c4-4364-a580-b9ccfff06c37');\n",
              "          const dataTable =\n",
              "            await google.colab.kernel.invokeFunction('convertToInteractive',\n",
              "                                                     [key], {});\n",
              "          if (!dataTable) return;\n",
              "\n",
              "          const docLinkHtml = 'Like what you see? Visit the ' +\n",
              "            '<a target=\"_blank\" href=https://colab.research.google.com/notebooks/data_table.ipynb>data table notebook</a>'\n",
              "            + ' to learn more about interactive tables.';\n",
              "          element.innerHTML = '';\n",
              "          dataTable['output_type'] = 'display_data';\n",
              "          await google.colab.output.renderOutput(dataTable, element);\n",
              "          const docLink = document.createElement('div');\n",
              "          docLink.innerHTML = docLinkHtml;\n",
              "          element.appendChild(docLink);\n",
              "        }\n",
              "      </script>\n",
              "    </div>\n",
              "  </div>\n",
              "  "
            ]
          },
          "metadata": {},
          "execution_count": 18
        }
      ]
    },
    {
      "cell_type": "markdown",
      "source": [
        "# 2. Leitura e análise dos dados coletados <a name=\"Analise\"></a>"
      ],
      "metadata": {
        "id": "2EuYUS8t8blo"
      }
    },
    {
      "cell_type": "code",
      "source": [
        "df_videos_novo['comentarios'] = df_videos_novo['comentarios'].astype(int)\n",
        "df_videos_novo['likes'] = df_videos_novo['likes'].astype(int)\n",
        "df_videos_novo['visualizacoes'] = df_videos_novo['visualizacoes'].astype(int)"
      ],
      "metadata": {
        "id": "7xJFnk4Ih4Yv"
      },
      "execution_count": null,
      "outputs": []
    },
    {
      "cell_type": "code",
      "source": [
        "df_videos_sem_duplicacao = df_videos_novo.drop_duplicates(subset='id_video')"
      ],
      "metadata": {
        "id": "waXoFr9f-g14"
      },
      "execution_count": null,
      "outputs": []
    },
    {
      "cell_type": "code",
      "source": [
        "df_videos_sem_duplicacao['publicacao'] = df_videos_sem_duplicacao['data_publicacao'].str.slice(start=0, stop=10)\n",
        "df_videos_sem_duplicacao['publicacao'] = pd.to_datetime(df_videos_sem_duplicacao['publicacao'], format='%Y-%m-%d')\n",
        "df_videos_sem_duplicacao['ano_publicacao'] = df_videos_sem_duplicacao['publicacao'].dt.year"
      ],
      "metadata": {
        "id": "JtzLeAIZ-lSH"
      },
      "execution_count": null,
      "outputs": []
    },
    {
      "cell_type": "code",
      "source": [
        "df_videos_sem_duplicacao.head(2)"
      ],
      "metadata": {
        "colab": {
          "base_uri": "https://localhost:8080/",
          "height": 280
        },
        "id": "Cce5-EU9b4j_",
        "outputId": "73a459a6-e09e-4479-bb81-e34a67b4c20d"
      },
      "execution_count": null,
      "outputs": [
        {
          "output_type": "execute_result",
          "data": {
            "text/plain": [
              "                           titulo_video     id_video       data_publicacao  \\\n",
              "0  Gilberto Gil no show do álbum Quanta  L0ix9byL4Wc  2021-02-22T16:44:09Z   \n",
              "1                 #Shorts | Elza Eterna  5YdDCP7aXXY  2022-01-26T18:50:14Z   \n",
              "\n",
              "                                             imagem  \\\n",
              "0  https://i.ytimg.com/vi/L0ix9byL4Wc/mqdefault.jpg   \n",
              "1  https://i.ytimg.com/vi/5YdDCP7aXXY/mqdefault.jpg   \n",
              "\n",
              "                                        player_video  \\\n",
              "0  <iframe width=\"480\" height=\"270\" src=\"//www.yo...   \n",
              "1  <iframe width=\"480\" height=\"360\" src=\"//www.yo...   \n",
              "\n",
              "                                        estatisticas  comentarios favoritos  \\\n",
              "0  {'viewCount': '248', 'likeCount': '24', 'favor...            3         0   \n",
              "1  {'viewCount': '3666', 'likeCount': '298', 'fav...            9         0   \n",
              "\n",
              "   likes  visualizacoes                         id_playlist  \\\n",
              "0     24            248  PLsYFv2PLHYDyxp25_7KtFtIEtvmw_q6g8   \n",
              "1    298           3666  PLsYFv2PLHYDy6vH_QAMnSWmSemFw_C0kx   \n",
              "\n",
              "                                  nome_playlist publicacao  ano_publicacao  \n",
              "0  Coleção Gilberto Gil | Google Arts & Culture 2021-02-22            2021  \n",
              "1                                        Shorts 2022-01-26            2022  "
            ],
            "text/html": [
              "\n",
              "  <div id=\"df-1180855e-c8e5-4843-b20d-fb845eac257c\">\n",
              "    <div class=\"colab-df-container\">\n",
              "      <div>\n",
              "<style scoped>\n",
              "    .dataframe tbody tr th:only-of-type {\n",
              "        vertical-align: middle;\n",
              "    }\n",
              "\n",
              "    .dataframe tbody tr th {\n",
              "        vertical-align: top;\n",
              "    }\n",
              "\n",
              "    .dataframe thead th {\n",
              "        text-align: right;\n",
              "    }\n",
              "</style>\n",
              "<table border=\"1\" class=\"dataframe\">\n",
              "  <thead>\n",
              "    <tr style=\"text-align: right;\">\n",
              "      <th></th>\n",
              "      <th>titulo_video</th>\n",
              "      <th>id_video</th>\n",
              "      <th>data_publicacao</th>\n",
              "      <th>imagem</th>\n",
              "      <th>player_video</th>\n",
              "      <th>estatisticas</th>\n",
              "      <th>comentarios</th>\n",
              "      <th>favoritos</th>\n",
              "      <th>likes</th>\n",
              "      <th>visualizacoes</th>\n",
              "      <th>id_playlist</th>\n",
              "      <th>nome_playlist</th>\n",
              "      <th>publicacao</th>\n",
              "      <th>ano_publicacao</th>\n",
              "    </tr>\n",
              "  </thead>\n",
              "  <tbody>\n",
              "    <tr>\n",
              "      <th>0</th>\n",
              "      <td>Gilberto Gil no show do álbum Quanta</td>\n",
              "      <td>L0ix9byL4Wc</td>\n",
              "      <td>2021-02-22T16:44:09Z</td>\n",
              "      <td>https://i.ytimg.com/vi/L0ix9byL4Wc/mqdefault.jpg</td>\n",
              "      <td>&lt;iframe width=\"480\" height=\"270\" src=\"//www.yo...</td>\n",
              "      <td>{'viewCount': '248', 'likeCount': '24', 'favor...</td>\n",
              "      <td>3</td>\n",
              "      <td>0</td>\n",
              "      <td>24</td>\n",
              "      <td>248</td>\n",
              "      <td>PLsYFv2PLHYDyxp25_7KtFtIEtvmw_q6g8</td>\n",
              "      <td>Coleção Gilberto Gil | Google Arts &amp; Culture</td>\n",
              "      <td>2021-02-22</td>\n",
              "      <td>2021</td>\n",
              "    </tr>\n",
              "    <tr>\n",
              "      <th>1</th>\n",
              "      <td>#Shorts | Elza Eterna</td>\n",
              "      <td>5YdDCP7aXXY</td>\n",
              "      <td>2022-01-26T18:50:14Z</td>\n",
              "      <td>https://i.ytimg.com/vi/5YdDCP7aXXY/mqdefault.jpg</td>\n",
              "      <td>&lt;iframe width=\"480\" height=\"360\" src=\"//www.yo...</td>\n",
              "      <td>{'viewCount': '3666', 'likeCount': '298', 'fav...</td>\n",
              "      <td>9</td>\n",
              "      <td>0</td>\n",
              "      <td>298</td>\n",
              "      <td>3666</td>\n",
              "      <td>PLsYFv2PLHYDy6vH_QAMnSWmSemFw_C0kx</td>\n",
              "      <td>Shorts</td>\n",
              "      <td>2022-01-26</td>\n",
              "      <td>2022</td>\n",
              "    </tr>\n",
              "  </tbody>\n",
              "</table>\n",
              "</div>\n",
              "      <button class=\"colab-df-convert\" onclick=\"convertToInteractive('df-1180855e-c8e5-4843-b20d-fb845eac257c')\"\n",
              "              title=\"Convert this dataframe to an interactive table.\"\n",
              "              style=\"display:none;\">\n",
              "        \n",
              "  <svg xmlns=\"http://www.w3.org/2000/svg\" height=\"24px\"viewBox=\"0 0 24 24\"\n",
              "       width=\"24px\">\n",
              "    <path d=\"M0 0h24v24H0V0z\" fill=\"none\"/>\n",
              "    <path d=\"M18.56 5.44l.94 2.06.94-2.06 2.06-.94-2.06-.94-.94-2.06-.94 2.06-2.06.94zm-11 1L8.5 8.5l.94-2.06 2.06-.94-2.06-.94L8.5 2.5l-.94 2.06-2.06.94zm10 10l.94 2.06.94-2.06 2.06-.94-2.06-.94-.94-2.06-.94 2.06-2.06.94z\"/><path d=\"M17.41 7.96l-1.37-1.37c-.4-.4-.92-.59-1.43-.59-.52 0-1.04.2-1.43.59L10.3 9.45l-7.72 7.72c-.78.78-.78 2.05 0 2.83L4 21.41c.39.39.9.59 1.41.59.51 0 1.02-.2 1.41-.59l7.78-7.78 2.81-2.81c.8-.78.8-2.07 0-2.86zM5.41 20L4 18.59l7.72-7.72 1.47 1.35L5.41 20z\"/>\n",
              "  </svg>\n",
              "      </button>\n",
              "      \n",
              "  <style>\n",
              "    .colab-df-container {\n",
              "      display:flex;\n",
              "      flex-wrap:wrap;\n",
              "      gap: 12px;\n",
              "    }\n",
              "\n",
              "    .colab-df-convert {\n",
              "      background-color: #E8F0FE;\n",
              "      border: none;\n",
              "      border-radius: 50%;\n",
              "      cursor: pointer;\n",
              "      display: none;\n",
              "      fill: #1967D2;\n",
              "      height: 32px;\n",
              "      padding: 0 0 0 0;\n",
              "      width: 32px;\n",
              "    }\n",
              "\n",
              "    .colab-df-convert:hover {\n",
              "      background-color: #E2EBFA;\n",
              "      box-shadow: 0px 1px 2px rgba(60, 64, 67, 0.3), 0px 1px 3px 1px rgba(60, 64, 67, 0.15);\n",
              "      fill: #174EA6;\n",
              "    }\n",
              "\n",
              "    [theme=dark] .colab-df-convert {\n",
              "      background-color: #3B4455;\n",
              "      fill: #D2E3FC;\n",
              "    }\n",
              "\n",
              "    [theme=dark] .colab-df-convert:hover {\n",
              "      background-color: #434B5C;\n",
              "      box-shadow: 0px 1px 3px 1px rgba(0, 0, 0, 0.15);\n",
              "      filter: drop-shadow(0px 1px 2px rgba(0, 0, 0, 0.3));\n",
              "      fill: #FFFFFF;\n",
              "    }\n",
              "  </style>\n",
              "\n",
              "      <script>\n",
              "        const buttonEl =\n",
              "          document.querySelector('#df-1180855e-c8e5-4843-b20d-fb845eac257c button.colab-df-convert');\n",
              "        buttonEl.style.display =\n",
              "          google.colab.kernel.accessAllowed ? 'block' : 'none';\n",
              "\n",
              "        async function convertToInteractive(key) {\n",
              "          const element = document.querySelector('#df-1180855e-c8e5-4843-b20d-fb845eac257c');\n",
              "          const dataTable =\n",
              "            await google.colab.kernel.invokeFunction('convertToInteractive',\n",
              "                                                     [key], {});\n",
              "          if (!dataTable) return;\n",
              "\n",
              "          const docLinkHtml = 'Like what you see? Visit the ' +\n",
              "            '<a target=\"_blank\" href=https://colab.research.google.com/notebooks/data_table.ipynb>data table notebook</a>'\n",
              "            + ' to learn more about interactive tables.';\n",
              "          element.innerHTML = '';\n",
              "          dataTable['output_type'] = 'display_data';\n",
              "          await google.colab.output.renderOutput(dataTable, element);\n",
              "          const docLink = document.createElement('div');\n",
              "          docLink.innerHTML = docLinkHtml;\n",
              "          element.appendChild(docLink);\n",
              "        }\n",
              "      </script>\n",
              "    </div>\n",
              "  </div>\n",
              "  "
            ]
          },
          "metadata": {},
          "execution_count": 24
        }
      ]
    },
    {
      "cell_type": "code",
      "source": [
        "# TOP 10 - vídeos com mais likes\n",
        "top_10_likes = df_videos_sem_duplicacao.sort_values(by='likes', ascending=False)\n",
        "top_10_likes = top_10_likes.head(10)\n",
        "df_top_10_likes = top_10_likes[['titulo_video', 'id_video', 'player_video', 'likes']]\n",
        "df_top_10_likes = df_top_10_likes.rename(columns={'likes':'Likes'})\n",
        "df_top_10_likes_tidy = pd.melt(df_top_10_likes, id_vars=['titulo_video', 'id_video', 'player_video'], value_vars='likes').rename(columns={'titulo_video': 'Vídeo', 'player_video': 'Assista', 'variable': 'Estatística', 'value': 'Quantidade'})"
      ],
      "metadata": {
        "id": "VUisTYr7_JxK"
      },
      "execution_count": null,
      "outputs": []
    },
    {
      "cell_type": "code",
      "source": [
        "# TOP 10 - vídeos com mais visualizações\n",
        "top_10_visualizacoes = df_videos_sem_duplicacao.sort_values(by='visualizacoes', ascending=False).head(10)\n",
        "top_10_visualizacoes = top_10_visualizacoes[['titulo_video', 'id_video', 'imagem', 'player_video', 'visualizacoes','publicacao', 'ano_publicacao']]\n",
        "top_10_visualizacoes = top_10_visualizacoes.rename(columns={'visualizacoes':'Visualizações'})\n",
        "df_top_10_visualizacoes_tidy = pd.melt(top_10_visualizacoes, id_vars=['titulo_video', 'id_video', 'player_video'], value_vars='Visualizações').rename(columns={'titulo_video': 'Vídeo', 'player_video': 'Assista', 'variable': 'Estatística', 'value': 'Quantidade'})"
      ],
      "metadata": {
        "id": "0pXP-tC9gh5U"
      },
      "execution_count": null,
      "outputs": []
    },
    {
      "cell_type": "code",
      "source": [
        "# TOP 10 - vídeos com mais comentários\n",
        "top_10_comentarios = df_videos_sem_duplicacao.sort_values(by='comentarios', ascending=False)\n",
        "df_top_10_comentarios = top_10_comentarios.head(10)\n",
        "df_top_10_comentarios = df_top_10_comentarios[['titulo_video', 'id_video', 'imagem', 'player_video', 'comentarios','publicacao', 'ano_publicacao']]\n",
        "df_top_10_comentarios = df_top_10_comentarios.rename(columns={'comentarios':'Comentários'})\n",
        "df_top_10_comentarios_tidy = pd.melt(df_top_10_comentarios, id_vars=['titulo_video', 'id_video', 'player_video'], value_vars='Comentários').rename(columns={'titulo_video': 'Vídeo', 'player_video': 'Assista', 'variable': 'Estatística', 'value': 'Quantidade'})"
      ],
      "metadata": {
        "id": "XbET883tiMg8"
      },
      "execution_count": null,
      "outputs": []
    },
    {
      "cell_type": "markdown",
      "source": [
        "Concatenar os três dataframes de top 10 em formato tidy"
      ],
      "metadata": {
        "id": "qKYTfvDuJEH6"
      }
    },
    {
      "cell_type": "code",
      "source": [
        "df_top_10_total = pd.concat([df_top_10_likes_tidy, df_top_10_visualizacoes_tidy, df_top_10_comentarios_tidy])\n",
        "df_top_10_total = df_top_10_total[['Vídeo', 'id_video', 'Assista', 'Estatística', 'Quantidade']]"
      ],
      "metadata": {
        "id": "hg9kCARsIasR"
      },
      "execution_count": null,
      "outputs": []
    },
    {
      "cell_type": "code",
      "source": [
        "df_top_10_total.to_csv('df_top_10_total_gilberto_gil_youtube.csv', index=False)"
      ],
      "metadata": {
        "id": "aEn54CWYJ0i4"
      },
      "execution_count": null,
      "outputs": []
    },
    {
      "cell_type": "markdown",
      "source": [
        "Estatísticas por ano"
      ],
      "metadata": {
        "id": "Php992lXidRJ"
      }
    },
    {
      "cell_type": "code",
      "source": [
        "estatisticas_por_ano = df_videos_sem_duplicacao[['ano_publicacao', 'comentarios', 'likes', 'visualizacoes']].groupby(by='ano_publicacao').sum().reset_index().rename(columns={'ano_publicacao': 'Ano de publicação', 'comentarios': 'Comentários', 'likes': 'Likes', 'visualizacoes': 'Visualizações'})\n",
        "df_estatisticas_por_ano = estatisticas_por_ano.melt(id_vars=['Ano de publicação'], value_vars=['Comentários', 'Likes', 'Visualizações']).rename(columns={'variable': 'Estatística', 'value': 'Quantidade'})\n",
        "df_estatisticas_por_ano.to_csv('df_estatisticas_por_ano_canal_gilberto_gil_youtube.csv', index=False)"
      ],
      "metadata": {
        "id": "yovALPKCCRpN"
      },
      "execution_count": null,
      "outputs": []
    },
    {
      "cell_type": "code",
      "source": [
        ""
      ],
      "metadata": {
        "id": "S7lHNta2t28X"
      },
      "execution_count": null,
      "outputs": []
    }
  ]
}