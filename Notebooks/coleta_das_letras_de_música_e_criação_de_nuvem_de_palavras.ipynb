{
  "nbformat": 4,
  "nbformat_minor": 0,
  "metadata": {
    "colab": {
      "name": "Coleta das letras de música e criação de nuvem de palavras.ipynb",
      "provenance": [],
      "collapsed_sections": [
        "idl_u2PDXyIW"
      ]
    },
    "kernelspec": {
      "name": "python3",
      "display_name": "Python 3"
    },
    "language_info": {
      "name": "python"
    }
  },
  "cells": [
    {
      "cell_type": "markdown",
      "source": [
        "**INTRODUÇÃO**\n",
        "\n",
        "O primeiro passo deste notebook é a coleta as letras de músicas de Gilberto Gil disponíveis no site [letras.mus.br](https://www.letras.mus.br/gilberto-gil/). E, seguida, são aplicadas técnicas de processamento de linguagem natural para se chegar às palavras mais presentes nas composições e, em seguida, criar uma nuvem de palavras.\n",
        "\n",
        "**ÍNDICE**\n",
        "\n",
        "1. [Raspagem de dados](#Raspagem)\n",
        "2. [Criação de nuvem de palavras](#Nuvem)\n",
        "\n",
        "\n",
        "**EXPEDIENTE**\n",
        "\n",
        "**Edição DATADOC**\n",
        "\n",
        "Thays Lavor\n",
        "\n",
        "**Coleta de dados**\n",
        "\n",
        "Alexandre Cajazeira\n",
        "\n",
        "**Análise e visualização de dados**\n",
        "\n",
        "Gabriela Custódio"
      ],
      "metadata": {
        "id": "n8rhu0Alei9G"
      }
    },
    {
      "cell_type": "markdown",
      "source": [
        "## 1. Raspagem de dados <a name=\"Raspagem\"></a>"
      ],
      "metadata": {
        "id": "1Yq48maW6Jlr"
      }
    },
    {
      "cell_type": "code",
      "execution_count": null,
      "metadata": {
        "id": "mQ61kHVsP6zt"
      },
      "outputs": [],
      "source": [
        "from urllib.error import HTTPError\n",
        "from urllib.error import URLError\n",
        "from bs4 import BeautifulSoup\n",
        "from urllib.request import urlopen\n",
        "import pandas as pd"
      ]
    },
    {
      "cell_type": "code",
      "source": [
        "# dados de uma música: "
      ],
      "metadata": {
        "id": "z0xMkU8pWLw-"
      },
      "execution_count": null,
      "outputs": []
    },
    {
      "cell_type": "code",
      "source": [
        "song_url = 'https://www.letras.com/gilberto-gil/16137/'\n",
        "soup = BeautifulSoup(urlopen(song_url), 'html.parser')"
      ],
      "metadata": {
        "id": "CJHEXAw9WL91"
      },
      "execution_count": null,
      "outputs": []
    },
    {
      "cell_type": "code",
      "source": [
        "windowPageArgs = soup.find(\"script\",{\"id\":\"head_scripts_vars\"}).text.split('__pageArgs=')[1].split(\";\")[0] \n",
        "windowPageArgs"
      ],
      "metadata": {
        "colab": {
          "base_uri": "https://localhost:8080/",
          "height": 53
        },
        "id": "yfcJZyKHnnxf",
        "outputId": "1dbd1ab0-eacb-4a81-a595-22f75731b096"
      },
      "execution_count": null,
      "outputs": [
        {
          "output_type": "execute_result",
          "data": {
            "text/plain": [
              "'{\"album_name\":\"Raça Humana\",\"artist_name\":\"Gilberto Gil\",\"dns\":\"gilberto-gil\",\"genre\":\"mpb\",\"lyric_lang\":\"pt\",\"page\":\"lyric\",\"track_name\":\"Vamos Fugir\",\"url\":\"16137\"}'"
            ],
            "application/vnd.google.colaboratory.intrinsic+json": {
              "type": "string"
            }
          },
          "metadata": {},
          "execution_count": 4
        }
      ]
    },
    {
      "cell_type": "code",
      "source": [
        "stanzas = []\n",
        "for p in soup.find(\"div\",\"cnt-letra p402_premium\").findAll(\"p\"):\n",
        "  stanzas.append(\n",
        "      str(p)\n",
        "        .replace(\"<p>\",\"\")\n",
        "        .replace(\"</p>\",\"\")\n",
        "        .replace(\"<br>\",\"\\n\")\n",
        "        .replace(\"<br/>\",\"\\n\")\n",
        "        .replace(\"</br>\",\"\\n\")\n",
        "    )\n",
        "\n",
        "lyrics = \"\\n\\n\".join(stanzas)"
      ],
      "metadata": {
        "id": "w5vY8UyAWMBC"
      },
      "execution_count": null,
      "outputs": []
    },
    {
      "cell_type": "code",
      "source": [
        "views = int(soup.find(\"div\",\"cnt-info_exib\").find(\"b\").getText().replace('.',''))\n",
        "views"
      ],
      "metadata": {
        "id": "L5LXv1XfcvjP",
        "colab": {
          "base_uri": "https://localhost:8080/"
        },
        "outputId": "8afd77c5-8a5b-495b-a031-254c6ef717d3"
      },
      "execution_count": null,
      "outputs": [
        {
          "output_type": "execute_result",
          "data": {
            "text/plain": [
              "7221"
            ]
          },
          "metadata": {},
          "execution_count": 6
        }
      ]
    },
    {
      "cell_type": "code",
      "source": [
        "# Função desenvolvida: "
      ],
      "metadata": {
        "id": "qTIE00lFeJ8P"
      },
      "execution_count": null,
      "outputs": []
    },
    {
      "cell_type": "code",
      "source": [
        "def getSongData(url):\n",
        "  soup = BeautifulSoup(urlopen(url), 'html.parser')\n",
        "\n",
        "  windowPageArgs = soup.find(\"script\",{\"id\":\"head_scripts_vars\"}).text.split('__pageArgs=')[1].split(\";\")[0] \n",
        "\n",
        "  views = -1\n",
        "  views_div = soup.find(\"div\",\"cnt-info_exib\")\n",
        "  if views_div is not None:\n",
        "    views = int(views_div.find(\"b\").getText().replace('.',''))\n",
        "\n",
        "  comp = -1\n",
        "  comp_div = soup.find(\"div\",\"letra-info_comp\")\n",
        "  if comp_div is not None:\n",
        "    comp = comp_div.getText().replace('  Compuesta por: ','').replace('. ¿Los datos están equivocados? Avísanos. ','').replace(' ¿Sabes quién compuso esta canción? Envíanoslo. ', 'Sem informação')\n",
        "\n",
        "  stanzas = []\n",
        "  for p in soup.find(\"div\",\"cnt-letra p402_premium\").findAll(\"p\"):\n",
        "    stanzas.append(\n",
        "        str(p)\n",
        "          .replace(\"<p>\",\"\")\n",
        "          .replace(\"</p>\",\"\")\n",
        "          .replace(\"<br>\",\"\\n\")\n",
        "          .replace(\"<br/>\",\"\\n\")\n",
        "          .replace(\"</br>\",\"\\n\")\n",
        "      )\n",
        "\n",
        "  lyrics = \"\\n\\n\".join(stanzas)\n",
        "\n",
        "  return {\"windowPageArgs\":windowPageArgs,\"views\":views, \"composicao\":comp, \"lyrics\":lyrics}\n"
      ],
      "metadata": {
        "id": "esW6wKKOoxtP"
      },
      "execution_count": null,
      "outputs": []
    },
    {
      "cell_type": "code",
      "source": [
        "getSongData(song_url)"
      ],
      "metadata": {
        "colab": {
          "base_uri": "https://localhost:8080/"
        },
        "id": "OzC3bBfZpZ2K",
        "outputId": "c2b5a525-7d19-4dc2-e1d9-938a3bec8392"
      },
      "execution_count": null,
      "outputs": [
        {
          "output_type": "execute_result",
          "data": {
            "text/plain": [
              "{'composicao': 'Liminha / Gilberto Gil',\n",
              " 'lyrics': \"Vamos fugir!\\nDeste lugar\\nBaby!\\nVamos fugir\\nTô cansado de esperar\\nQue você me carregue\\n\\n\\nVamos fugir!\\nPr'outro lugar\\nBaby!\\nVamos fugir\\nPr'onde quer que você vá\\nQue você me carregue\\n\\nPois diga que irá\\nIrajá, Irajá\\nPra onde eu só veja você\\nVocê veja a mim só\\nMarajó, Marajó\\nQualquer outro lugar comum\\nOutro lugar qualquer\\n\\nGuaporé, Guaporé\\nQualquer outro lugar ao sol\\nOutro lugar ao sul\\nCéu azul, céu azul\\nOnde haja só meu corpo nu\\nJunto ao seu corpo nu\\n\\nVamos fugir!\\nPr'outro lugar\\nBaby!\\nVamos fugir\\nPr'onde haja um tobogã\\nOnde a gente escorregue\\n\\nVamos fugir!\\nDeste lugar\\nBaby!\\nAh! Vamos fugir\\nTô cansado de esperar\\nQue você me carregue\\n\\nPois diga que irá\\nIrajá, Irajá\\nPra onde eu só veja você\\nVocê veja a mim só\\nMarajó, Marajó\\nQualquer outro lugar comum\\nOutro lugar qualquer\\n\\nGuaporé, Guaporé\\nQualquer outro lugar ao sol\\nOutro lugar ao sul\\nCéu azul, céu azul\\nOnde haja só meu corpo nu\\nJunto ao seu corpo nu\\n\\nVamos fugir (Gimme your love)\\nPr'outro lugar\\nBaby!  (Gimme your love)\\nVamos fugir\\nPr'onde haja um tobogã\\nOnde a gente escorregue\\nTodo dia de manhã\\nFlôres que a gente regue\\nUma banda de maçã\\nOutra banda de reggae\\n\\nTô cansado de esperar\\nQue você me carregue\\nPr'onde quer que você vá\\nQue você me carregue\\nPr'onde haja um tobogã\\nOnde a gente escorregue\\nTodo dia de manhã\\nFlores que a gente regue\\nUma banda de maçã\\nOutra banda de reggae\\nTô cansado de esperar\\nQue você me carregue\",\n",
              " 'views': 7221,\n",
              " 'windowPageArgs': '{\"album_name\":\"Raça Humana\",\"artist_name\":\"Gilberto Gil\",\"dns\":\"gilberto-gil\",\"genre\":\"mpb\",\"lyric_lang\":\"pt\",\"page\":\"lyric\",\"track_name\":\"Vamos Fugir\",\"url\":\"16137\"}'}"
            ]
          },
          "metadata": {},
          "execution_count": 9
        }
      ]
    },
    {
      "cell_type": "code",
      "source": [
        "def getSongData(url):\n",
        "  soup = BeautifulSoup(urlopen(url), 'html.parser')\n",
        "\n",
        "  windowPageArgs = soup.find(\"script\",{\"id\":\"head_scripts_vars\"}).text.split('__pageArgs=')[1].split(\";\")[0] \n",
        "\n",
        "  views = -1\n",
        "  views_div = soup.find(\"div\",\"cnt-info_exib\")\n",
        "  if views_div is not None:\n",
        "    views = int(views_div.find(\"b\").getText().replace('.',''))\n",
        "\n",
        "  stanzas = []\n",
        "  for p in soup.find(\"div\",\"cnt-letra p402_premium\").findAll(\"p\"):\n",
        "    stanzas.append(\n",
        "        str(p)\n",
        "          .replace(\"<p>\",\"\")\n",
        "          .replace(\"</p>\",\"\")\n",
        "          .replace(\"<br>\",\"\\n\")\n",
        "          .replace(\"<br/>\",\"\\n\")\n",
        "          .replace(\"</br>\",\"\\n\")\n",
        "      )\n",
        "\n",
        "  lyrics = \"\\n\\n\".join(stanzas)\n",
        "\n",
        "  return {\"windowPageArgs\":windowPageArgs,\"views\":views,\"lyrics\":lyrics}\n"
      ],
      "metadata": {
        "id": "4-IxJ-7Pc_LH"
      },
      "execution_count": null,
      "outputs": []
    },
    {
      "cell_type": "code",
      "source": [
        "# Todo o dataset:"
      ],
      "metadata": {
        "id": "pGPNeFbtWMD0"
      },
      "execution_count": null,
      "outputs": []
    },
    {
      "cell_type": "code",
      "source": [
        "url = f'https://www.letras.com/gilberto-gil/'\n",
        "page_info=urlopen(url)\n",
        "soup = BeautifulSoup(page_info, 'html.parser')\n",
        "data = soup.find('div', \"cnt-list--alp\")\n",
        "songs = data.findAll('li')"
      ],
      "metadata": {
        "id": "FCGiGXzFQSqN"
      },
      "execution_count": null,
      "outputs": []
    },
    {
      "cell_type": "code",
      "source": [
        "songs_list = []\n",
        "for li in songs:\n",
        "  songs_list.append({\n",
        "      'name': li['data-name'],\n",
        "      'letras_id':li['data-id'],\n",
        "      'url':li['data-shareurl'],\n",
        "      'text':li['data-sharetext'],\n",
        "  })"
      ],
      "metadata": {
        "id": "0tS-htacQh8M"
      },
      "execution_count": null,
      "outputs": []
    },
    {
      "cell_type": "code",
      "source": [
        "songsDF = pd.DataFrame(songs_list)"
      ],
      "metadata": {
        "id": "0OaXPTEbVGO0"
      },
      "execution_count": null,
      "outputs": []
    },
    {
      "cell_type": "code",
      "source": [
        "songsDF.loc[songsDF['name'].duplicated(keep='last')]"
      ],
      "metadata": {
        "colab": {
          "base_uri": "https://localhost:8080/",
          "height": 143
        },
        "id": "jvAomOs8bBSj",
        "outputId": "4b09ba59-ef62-462f-aff5-528513495a23"
      },
      "execution_count": null,
      "outputs": [
        {
          "output_type": "execute_result",
          "data": {
            "text/plain": [
              "                    name letras_id  \\\n",
              "480    Punk da Periferia     16135   \n",
              "515  Retiros Espirituais   2025824   \n",
              "607          Vamos Fugir     16137   \n",
              "\n",
              "                                                   url  \\\n",
              "480         https://www.letras.com/gilberto-gil/16135/   \n",
              "515  https://www.letras.com/gilberto-gil/retidos-es...   \n",
              "607         https://www.letras.com/gilberto-gil/16137/   \n",
              "\n",
              "                                    text  \n",
              "480    Punk da Periferia de Gilberto Gil  \n",
              "515  Retiros Espirituais de Gilberto Gil  \n",
              "607          Vamos Fugir de Gilberto Gil  "
            ],
            "text/html": [
              "\n",
              "  <div id=\"df-19007f1d-1a83-40ef-b54c-a9ce998ea2bf\">\n",
              "    <div class=\"colab-df-container\">\n",
              "      <div>\n",
              "<style scoped>\n",
              "    .dataframe tbody tr th:only-of-type {\n",
              "        vertical-align: middle;\n",
              "    }\n",
              "\n",
              "    .dataframe tbody tr th {\n",
              "        vertical-align: top;\n",
              "    }\n",
              "\n",
              "    .dataframe thead th {\n",
              "        text-align: right;\n",
              "    }\n",
              "</style>\n",
              "<table border=\"1\" class=\"dataframe\">\n",
              "  <thead>\n",
              "    <tr style=\"text-align: right;\">\n",
              "      <th></th>\n",
              "      <th>name</th>\n",
              "      <th>letras_id</th>\n",
              "      <th>url</th>\n",
              "      <th>text</th>\n",
              "    </tr>\n",
              "  </thead>\n",
              "  <tbody>\n",
              "    <tr>\n",
              "      <th>480</th>\n",
              "      <td>Punk da Periferia</td>\n",
              "      <td>16135</td>\n",
              "      <td>https://www.letras.com/gilberto-gil/16135/</td>\n",
              "      <td>Punk da Periferia de Gilberto Gil</td>\n",
              "    </tr>\n",
              "    <tr>\n",
              "      <th>515</th>\n",
              "      <td>Retiros Espirituais</td>\n",
              "      <td>2025824</td>\n",
              "      <td>https://www.letras.com/gilberto-gil/retidos-es...</td>\n",
              "      <td>Retiros Espirituais de Gilberto Gil</td>\n",
              "    </tr>\n",
              "    <tr>\n",
              "      <th>607</th>\n",
              "      <td>Vamos Fugir</td>\n",
              "      <td>16137</td>\n",
              "      <td>https://www.letras.com/gilberto-gil/16137/</td>\n",
              "      <td>Vamos Fugir de Gilberto Gil</td>\n",
              "    </tr>\n",
              "  </tbody>\n",
              "</table>\n",
              "</div>\n",
              "      <button class=\"colab-df-convert\" onclick=\"convertToInteractive('df-19007f1d-1a83-40ef-b54c-a9ce998ea2bf')\"\n",
              "              title=\"Convert this dataframe to an interactive table.\"\n",
              "              style=\"display:none;\">\n",
              "        \n",
              "  <svg xmlns=\"http://www.w3.org/2000/svg\" height=\"24px\"viewBox=\"0 0 24 24\"\n",
              "       width=\"24px\">\n",
              "    <path d=\"M0 0h24v24H0V0z\" fill=\"none\"/>\n",
              "    <path d=\"M18.56 5.44l.94 2.06.94-2.06 2.06-.94-2.06-.94-.94-2.06-.94 2.06-2.06.94zm-11 1L8.5 8.5l.94-2.06 2.06-.94-2.06-.94L8.5 2.5l-.94 2.06-2.06.94zm10 10l.94 2.06.94-2.06 2.06-.94-2.06-.94-.94-2.06-.94 2.06-2.06.94z\"/><path d=\"M17.41 7.96l-1.37-1.37c-.4-.4-.92-.59-1.43-.59-.52 0-1.04.2-1.43.59L10.3 9.45l-7.72 7.72c-.78.78-.78 2.05 0 2.83L4 21.41c.39.39.9.59 1.41.59.51 0 1.02-.2 1.41-.59l7.78-7.78 2.81-2.81c.8-.78.8-2.07 0-2.86zM5.41 20L4 18.59l7.72-7.72 1.47 1.35L5.41 20z\"/>\n",
              "  </svg>\n",
              "      </button>\n",
              "      \n",
              "  <style>\n",
              "    .colab-df-container {\n",
              "      display:flex;\n",
              "      flex-wrap:wrap;\n",
              "      gap: 12px;\n",
              "    }\n",
              "\n",
              "    .colab-df-convert {\n",
              "      background-color: #E8F0FE;\n",
              "      border: none;\n",
              "      border-radius: 50%;\n",
              "      cursor: pointer;\n",
              "      display: none;\n",
              "      fill: #1967D2;\n",
              "      height: 32px;\n",
              "      padding: 0 0 0 0;\n",
              "      width: 32px;\n",
              "    }\n",
              "\n",
              "    .colab-df-convert:hover {\n",
              "      background-color: #E2EBFA;\n",
              "      box-shadow: 0px 1px 2px rgba(60, 64, 67, 0.3), 0px 1px 3px 1px rgba(60, 64, 67, 0.15);\n",
              "      fill: #174EA6;\n",
              "    }\n",
              "\n",
              "    [theme=dark] .colab-df-convert {\n",
              "      background-color: #3B4455;\n",
              "      fill: #D2E3FC;\n",
              "    }\n",
              "\n",
              "    [theme=dark] .colab-df-convert:hover {\n",
              "      background-color: #434B5C;\n",
              "      box-shadow: 0px 1px 3px 1px rgba(0, 0, 0, 0.15);\n",
              "      filter: drop-shadow(0px 1px 2px rgba(0, 0, 0, 0.3));\n",
              "      fill: #FFFFFF;\n",
              "    }\n",
              "  </style>\n",
              "\n",
              "      <script>\n",
              "        const buttonEl =\n",
              "          document.querySelector('#df-19007f1d-1a83-40ef-b54c-a9ce998ea2bf button.colab-df-convert');\n",
              "        buttonEl.style.display =\n",
              "          google.colab.kernel.accessAllowed ? 'block' : 'none';\n",
              "\n",
              "        async function convertToInteractive(key) {\n",
              "          const element = document.querySelector('#df-19007f1d-1a83-40ef-b54c-a9ce998ea2bf');\n",
              "          const dataTable =\n",
              "            await google.colab.kernel.invokeFunction('convertToInteractive',\n",
              "                                                     [key], {});\n",
              "          if (!dataTable) return;\n",
              "\n",
              "          const docLinkHtml = 'Like what you see? Visit the ' +\n",
              "            '<a target=\"_blank\" href=https://colab.research.google.com/notebooks/data_table.ipynb>data table notebook</a>'\n",
              "            + ' to learn more about interactive tables.';\n",
              "          element.innerHTML = '';\n",
              "          dataTable['output_type'] = 'display_data';\n",
              "          await google.colab.output.renderOutput(dataTable, element);\n",
              "          const docLink = document.createElement('div');\n",
              "          docLink.innerHTML = docLinkHtml;\n",
              "          element.appendChild(docLink);\n",
              "        }\n",
              "      </script>\n",
              "    </div>\n",
              "  </div>\n",
              "  "
            ]
          },
          "metadata": {},
          "execution_count": 15
        }
      ]
    },
    {
      "cell_type": "code",
      "source": [
        "songsDF['individualScrape'] = songsDF.apply(lambda x: getSongData(x['url']), axis = 1)"
      ],
      "metadata": {
        "colab": {
          "base_uri": "https://localhost:8080/"
        },
        "id": "c10WsikLV1dI",
        "outputId": "8863e118-40d4-401c-ba66-f30370b09e7d"
      },
      "execution_count": null,
      "outputs": [
        {
          "output_type": "stream",
          "name": "stderr",
          "text": [
            "Some characters could not be decoded, and were replaced with REPLACEMENT CHARACTER.\n",
            "Some characters could not be decoded, and were replaced with REPLACEMENT CHARACTER.\n",
            "Some characters could not be decoded, and were replaced with REPLACEMENT CHARACTER.\n"
          ]
        }
      ]
    },
    {
      "cell_type": "code",
      "source": [
        "songsDF"
      ],
      "metadata": {
        "colab": {
          "base_uri": "https://localhost:8080/",
          "height": 659
        },
        "id": "U38dIINTdQ8M",
        "outputId": "e9636804-5213-4b9a-d94b-91f67e00621c"
      },
      "execution_count": null,
      "outputs": [
        {
          "output_type": "execute_result",
          "data": {
            "text/plain": [
              "                               name letras_id  \\\n",
              "0                  17 Léguas e Meia   1571967   \n",
              "1                    17 Na Corrente   2167336   \n",
              "2                              2001   1179389   \n",
              "3                      - Aqui Agora   3160604   \n",
              "4                 A Abóbada da Vida    316672   \n",
              "..                              ...       ...   \n",
              "633                       Yá Olokum   2025819   \n",
              "634  Yo Vengo a Oferecer Mi Corazon   1571966   \n",
              "635                          Zabelê    586713   \n",
              "636                       Zoilógico    586714   \n",
              "637                           Zumbi     67669   \n",
              "\n",
              "                                                   url  \\\n",
              "0         https://www.letras.com/gilberto-gil/1571967/   \n",
              "1    https://www.letras.com/gilberto-gil/17-na-corr...   \n",
              "2         https://www.letras.com/gilberto-gil/1179389/   \n",
              "3      https://www.letras.com/gilberto-gil/aqui-agora/   \n",
              "4          https://www.letras.com/gilberto-gil/316672/   \n",
              "..                                                 ...   \n",
              "633     https://www.letras.com/gilberto-gil/ya-olokum/   \n",
              "634       https://www.letras.com/gilberto-gil/1571966/   \n",
              "635        https://www.letras.com/gilberto-gil/586713/   \n",
              "636        https://www.letras.com/gilberto-gil/586714/   \n",
              "637         https://www.letras.com/gilberto-gil/67669/   \n",
              "\n",
              "                                               text  \\\n",
              "0                  17 Léguas e Meia de Gilberto Gil   \n",
              "1                    17 Na Corrente de Gilberto Gil   \n",
              "2                              2001 de Gilberto Gil   \n",
              "3                      - Aqui Agora de Gilberto Gil   \n",
              "4                 A Abóbada da Vida de Gilberto Gil   \n",
              "..                                              ...   \n",
              "633                       Yá Olokum de Gilberto Gil   \n",
              "634  Yo Vengo a Oferecer Mi Corazon de Gilberto Gil   \n",
              "635                          Zabelê de Gilberto Gil   \n",
              "636                       Zoilógico de Gilberto Gil   \n",
              "637                           Zumbi de Gilberto Gil   \n",
              "\n",
              "                                      individualScrape  \n",
              "0    {'windowPageArgs': '{\"album_name\":\"Gilberto Gi...  \n",
              "1    {'windowPageArgs': '{\"album_name\":\"O Sol de Os...  \n",
              "2    {'windowPageArgs': '{\"album_name\":\"Gilberto Gi...  \n",
              "3    {'windowPageArgs': '{\"artist_name\":\"Gilberto G...  \n",
              "4    {'windowPageArgs': '{\"artist_name\":\"Gilberto G...  \n",
              "..                                                 ...  \n",
              "633  {'windowPageArgs': '{\"album_name\":\"Parabolicam...  \n",
              "634  {'windowPageArgs': '{\"album_name\":\"Gil e Milto...  \n",
              "635  {'windowPageArgs': '{\"artist_name\":\"Gilberto G...  \n",
              "636  {'windowPageArgs': '{\"artist_name\":\"Gilberto G...  \n",
              "637  {'windowPageArgs': '{\"album_name\":\"Quilombo (T...  \n",
              "\n",
              "[638 rows x 5 columns]"
            ],
            "text/html": [
              "\n",
              "  <div id=\"df-b9f8a458-379e-48ae-8c4d-8b8379599afd\">\n",
              "    <div class=\"colab-df-container\">\n",
              "      <div>\n",
              "<style scoped>\n",
              "    .dataframe tbody tr th:only-of-type {\n",
              "        vertical-align: middle;\n",
              "    }\n",
              "\n",
              "    .dataframe tbody tr th {\n",
              "        vertical-align: top;\n",
              "    }\n",
              "\n",
              "    .dataframe thead th {\n",
              "        text-align: right;\n",
              "    }\n",
              "</style>\n",
              "<table border=\"1\" class=\"dataframe\">\n",
              "  <thead>\n",
              "    <tr style=\"text-align: right;\">\n",
              "      <th></th>\n",
              "      <th>name</th>\n",
              "      <th>letras_id</th>\n",
              "      <th>url</th>\n",
              "      <th>text</th>\n",
              "      <th>individualScrape</th>\n",
              "    </tr>\n",
              "  </thead>\n",
              "  <tbody>\n",
              "    <tr>\n",
              "      <th>0</th>\n",
              "      <td>17 Léguas e Meia</td>\n",
              "      <td>1571967</td>\n",
              "      <td>https://www.letras.com/gilberto-gil/1571967/</td>\n",
              "      <td>17 Léguas e Meia de Gilberto Gil</td>\n",
              "      <td>{'windowPageArgs': '{\"album_name\":\"Gilberto Gi...</td>\n",
              "    </tr>\n",
              "    <tr>\n",
              "      <th>1</th>\n",
              "      <td>17 Na Corrente</td>\n",
              "      <td>2167336</td>\n",
              "      <td>https://www.letras.com/gilberto-gil/17-na-corr...</td>\n",
              "      <td>17 Na Corrente de Gilberto Gil</td>\n",
              "      <td>{'windowPageArgs': '{\"album_name\":\"O Sol de Os...</td>\n",
              "    </tr>\n",
              "    <tr>\n",
              "      <th>2</th>\n",
              "      <td>2001</td>\n",
              "      <td>1179389</td>\n",
              "      <td>https://www.letras.com/gilberto-gil/1179389/</td>\n",
              "      <td>2001 de Gilberto Gil</td>\n",
              "      <td>{'windowPageArgs': '{\"album_name\":\"Gilberto Gi...</td>\n",
              "    </tr>\n",
              "    <tr>\n",
              "      <th>3</th>\n",
              "      <td>- Aqui Agora</td>\n",
              "      <td>3160604</td>\n",
              "      <td>https://www.letras.com/gilberto-gil/aqui-agora/</td>\n",
              "      <td>- Aqui Agora de Gilberto Gil</td>\n",
              "      <td>{'windowPageArgs': '{\"artist_name\":\"Gilberto G...</td>\n",
              "    </tr>\n",
              "    <tr>\n",
              "      <th>4</th>\n",
              "      <td>A Abóbada da Vida</td>\n",
              "      <td>316672</td>\n",
              "      <td>https://www.letras.com/gilberto-gil/316672/</td>\n",
              "      <td>A Abóbada da Vida de Gilberto Gil</td>\n",
              "      <td>{'windowPageArgs': '{\"artist_name\":\"Gilberto G...</td>\n",
              "    </tr>\n",
              "    <tr>\n",
              "      <th>...</th>\n",
              "      <td>...</td>\n",
              "      <td>...</td>\n",
              "      <td>...</td>\n",
              "      <td>...</td>\n",
              "      <td>...</td>\n",
              "    </tr>\n",
              "    <tr>\n",
              "      <th>633</th>\n",
              "      <td>Yá Olokum</td>\n",
              "      <td>2025819</td>\n",
              "      <td>https://www.letras.com/gilberto-gil/ya-olokum/</td>\n",
              "      <td>Yá Olokum de Gilberto Gil</td>\n",
              "      <td>{'windowPageArgs': '{\"album_name\":\"Parabolicam...</td>\n",
              "    </tr>\n",
              "    <tr>\n",
              "      <th>634</th>\n",
              "      <td>Yo Vengo a Oferecer Mi Corazon</td>\n",
              "      <td>1571966</td>\n",
              "      <td>https://www.letras.com/gilberto-gil/1571966/</td>\n",
              "      <td>Yo Vengo a Oferecer Mi Corazon de Gilberto Gil</td>\n",
              "      <td>{'windowPageArgs': '{\"album_name\":\"Gil e Milto...</td>\n",
              "    </tr>\n",
              "    <tr>\n",
              "      <th>635</th>\n",
              "      <td>Zabelê</td>\n",
              "      <td>586713</td>\n",
              "      <td>https://www.letras.com/gilberto-gil/586713/</td>\n",
              "      <td>Zabelê de Gilberto Gil</td>\n",
              "      <td>{'windowPageArgs': '{\"artist_name\":\"Gilberto G...</td>\n",
              "    </tr>\n",
              "    <tr>\n",
              "      <th>636</th>\n",
              "      <td>Zoilógico</td>\n",
              "      <td>586714</td>\n",
              "      <td>https://www.letras.com/gilberto-gil/586714/</td>\n",
              "      <td>Zoilógico de Gilberto Gil</td>\n",
              "      <td>{'windowPageArgs': '{\"artist_name\":\"Gilberto G...</td>\n",
              "    </tr>\n",
              "    <tr>\n",
              "      <th>637</th>\n",
              "      <td>Zumbi</td>\n",
              "      <td>67669</td>\n",
              "      <td>https://www.letras.com/gilberto-gil/67669/</td>\n",
              "      <td>Zumbi de Gilberto Gil</td>\n",
              "      <td>{'windowPageArgs': '{\"album_name\":\"Quilombo (T...</td>\n",
              "    </tr>\n",
              "  </tbody>\n",
              "</table>\n",
              "<p>638 rows × 5 columns</p>\n",
              "</div>\n",
              "      <button class=\"colab-df-convert\" onclick=\"convertToInteractive('df-b9f8a458-379e-48ae-8c4d-8b8379599afd')\"\n",
              "              title=\"Convert this dataframe to an interactive table.\"\n",
              "              style=\"display:none;\">\n",
              "        \n",
              "  <svg xmlns=\"http://www.w3.org/2000/svg\" height=\"24px\"viewBox=\"0 0 24 24\"\n",
              "       width=\"24px\">\n",
              "    <path d=\"M0 0h24v24H0V0z\" fill=\"none\"/>\n",
              "    <path d=\"M18.56 5.44l.94 2.06.94-2.06 2.06-.94-2.06-.94-.94-2.06-.94 2.06-2.06.94zm-11 1L8.5 8.5l.94-2.06 2.06-.94-2.06-.94L8.5 2.5l-.94 2.06-2.06.94zm10 10l.94 2.06.94-2.06 2.06-.94-2.06-.94-.94-2.06-.94 2.06-2.06.94z\"/><path d=\"M17.41 7.96l-1.37-1.37c-.4-.4-.92-.59-1.43-.59-.52 0-1.04.2-1.43.59L10.3 9.45l-7.72 7.72c-.78.78-.78 2.05 0 2.83L4 21.41c.39.39.9.59 1.41.59.51 0 1.02-.2 1.41-.59l7.78-7.78 2.81-2.81c.8-.78.8-2.07 0-2.86zM5.41 20L4 18.59l7.72-7.72 1.47 1.35L5.41 20z\"/>\n",
              "  </svg>\n",
              "      </button>\n",
              "      \n",
              "  <style>\n",
              "    .colab-df-container {\n",
              "      display:flex;\n",
              "      flex-wrap:wrap;\n",
              "      gap: 12px;\n",
              "    }\n",
              "\n",
              "    .colab-df-convert {\n",
              "      background-color: #E8F0FE;\n",
              "      border: none;\n",
              "      border-radius: 50%;\n",
              "      cursor: pointer;\n",
              "      display: none;\n",
              "      fill: #1967D2;\n",
              "      height: 32px;\n",
              "      padding: 0 0 0 0;\n",
              "      width: 32px;\n",
              "    }\n",
              "\n",
              "    .colab-df-convert:hover {\n",
              "      background-color: #E2EBFA;\n",
              "      box-shadow: 0px 1px 2px rgba(60, 64, 67, 0.3), 0px 1px 3px 1px rgba(60, 64, 67, 0.15);\n",
              "      fill: #174EA6;\n",
              "    }\n",
              "\n",
              "    [theme=dark] .colab-df-convert {\n",
              "      background-color: #3B4455;\n",
              "      fill: #D2E3FC;\n",
              "    }\n",
              "\n",
              "    [theme=dark] .colab-df-convert:hover {\n",
              "      background-color: #434B5C;\n",
              "      box-shadow: 0px 1px 3px 1px rgba(0, 0, 0, 0.15);\n",
              "      filter: drop-shadow(0px 1px 2px rgba(0, 0, 0, 0.3));\n",
              "      fill: #FFFFFF;\n",
              "    }\n",
              "  </style>\n",
              "\n",
              "      <script>\n",
              "        const buttonEl =\n",
              "          document.querySelector('#df-b9f8a458-379e-48ae-8c4d-8b8379599afd button.colab-df-convert');\n",
              "        buttonEl.style.display =\n",
              "          google.colab.kernel.accessAllowed ? 'block' : 'none';\n",
              "\n",
              "        async function convertToInteractive(key) {\n",
              "          const element = document.querySelector('#df-b9f8a458-379e-48ae-8c4d-8b8379599afd');\n",
              "          const dataTable =\n",
              "            await google.colab.kernel.invokeFunction('convertToInteractive',\n",
              "                                                     [key], {});\n",
              "          if (!dataTable) return;\n",
              "\n",
              "          const docLinkHtml = 'Like what you see? Visit the ' +\n",
              "            '<a target=\"_blank\" href=https://colab.research.google.com/notebooks/data_table.ipynb>data table notebook</a>'\n",
              "            + ' to learn more about interactive tables.';\n",
              "          element.innerHTML = '';\n",
              "          dataTable['output_type'] = 'display_data';\n",
              "          await google.colab.output.renderOutput(dataTable, element);\n",
              "          const docLink = document.createElement('div');\n",
              "          docLink.innerHTML = docLinkHtml;\n",
              "          element.appendChild(docLink);\n",
              "        }\n",
              "      </script>\n",
              "    </div>\n",
              "  </div>\n",
              "  "
            ]
          },
          "metadata": {},
          "execution_count": 17
        }
      ]
    },
    {
      "cell_type": "code",
      "source": [
        "# songsDF['individualScrape'].apply(lambda x: x['windowPageArgs'])\n",
        "songsDF['windowPageArgs'] = songsDF['individualScrape'].apply(lambda x: x['windowPageArgs'])\n",
        "songsDF['views'] = songsDF['individualScrape'].apply(lambda x: x['views'])\n",
        "songsDF['lyrics'] = songsDF['individualScrape'].apply(lambda x: x['lyrics'])\n",
        "# songsDF['composicao'] = songsDF['individualScrape'].apply(lambda x: x['composicao'])"
      ],
      "metadata": {
        "id": "4QmNEZ_dhtmH"
      },
      "execution_count": null,
      "outputs": []
    },
    {
      "cell_type": "code",
      "source": [
        "songsDF.sort_values(by='views', ascending = False).head(5)"
      ],
      "metadata": {
        "colab": {
          "base_uri": "https://localhost:8080/",
          "height": 617
        },
        "id": "HRjyOKhiiHVf",
        "outputId": "8cf05252-ec73-446e-dbd6-08b01974303e"
      },
      "execution_count": null,
      "outputs": [
        {
          "output_type": "execute_result",
          "data": {
            "text/plain": [
              "                    name letras_id  \\\n",
              "57         Aquele Abraço     16138   \n",
              "52          Andar Com Fé     46184   \n",
              "180                 Drão     16133   \n",
              "583   Toda Menina Baiana     46249   \n",
              "205  Esperando Na Janela     46204   \n",
              "\n",
              "                                            url  \\\n",
              "57   https://www.letras.com/gilberto-gil/16138/   \n",
              "52   https://www.letras.com/gilberto-gil/46184/   \n",
              "180  https://www.letras.com/gilberto-gil/16133/   \n",
              "583  https://www.letras.com/gilberto-gil/46249/   \n",
              "205  https://www.letras.com/gilberto-gil/46204/   \n",
              "\n",
              "                                    text  \\\n",
              "57         Aquele Abraço de Gilberto Gil   \n",
              "52          Andar Com Fé de Gilberto Gil   \n",
              "180                 Drão de Gilberto Gil   \n",
              "583   Toda Menina Baiana de Gilberto Gil   \n",
              "205  Esperando Na Janela de Gilberto Gil   \n",
              "\n",
              "                                      individualScrape  \\\n",
              "57   {'windowPageArgs': '{\"album_name\":\"Gilberto Gi...   \n",
              "52   {'windowPageArgs': '{\"album_name\":\"Um Banda um...   \n",
              "180  {'windowPageArgs': '{\"album_name\":\"Um Banda um...   \n",
              "583  {'windowPageArgs': '{\"album_name\":\"Realce\",\"ar...   \n",
              "205  {'windowPageArgs': '{\"album_name\":\"Warner 25 A...   \n",
              "\n",
              "                                        windowPageArgs  views  \\\n",
              "57   {\"album_name\":\"Gilberto Gil\",\"artist_name\":\"Gi...  35941   \n",
              "52   {\"album_name\":\"Um Banda um\",\"artist_name\":\"Gil...  28743   \n",
              "180  {\"album_name\":\"Um Banda um\",\"artist_name\":\"Gil...  21734   \n",
              "583  {\"album_name\":\"Realce\",\"artist_name\":\"Gilberto...  17566   \n",
              "205  {\"album_name\":\"Warner 25 Anos\",\"artist_name\":\"...  16645   \n",
              "\n",
              "                                                lyrics  \n",
              "57   O Rio de Janeiro continua lindo\\nO Rio de Jane...  \n",
              "52   Andá com fé eu vou\\nQue a fé não costuma faiá\\...  \n",
              "180  Drão!\\nO amor da gente é como um grão\\nUma sem...  \n",
              "583  Toda menina baiana tem\\nUm santo que Deus dá\\n...  \n",
              "205  Ainda me lembro do seu caminhar\\nSeu jeito de ...  "
            ],
            "text/html": [
              "\n",
              "  <div id=\"df-f21c550d-6b03-4631-bccf-0b5a67be3b0e\">\n",
              "    <div class=\"colab-df-container\">\n",
              "      <div>\n",
              "<style scoped>\n",
              "    .dataframe tbody tr th:only-of-type {\n",
              "        vertical-align: middle;\n",
              "    }\n",
              "\n",
              "    .dataframe tbody tr th {\n",
              "        vertical-align: top;\n",
              "    }\n",
              "\n",
              "    .dataframe thead th {\n",
              "        text-align: right;\n",
              "    }\n",
              "</style>\n",
              "<table border=\"1\" class=\"dataframe\">\n",
              "  <thead>\n",
              "    <tr style=\"text-align: right;\">\n",
              "      <th></th>\n",
              "      <th>name</th>\n",
              "      <th>letras_id</th>\n",
              "      <th>url</th>\n",
              "      <th>text</th>\n",
              "      <th>individualScrape</th>\n",
              "      <th>windowPageArgs</th>\n",
              "      <th>views</th>\n",
              "      <th>lyrics</th>\n",
              "    </tr>\n",
              "  </thead>\n",
              "  <tbody>\n",
              "    <tr>\n",
              "      <th>57</th>\n",
              "      <td>Aquele Abraço</td>\n",
              "      <td>16138</td>\n",
              "      <td>https://www.letras.com/gilberto-gil/16138/</td>\n",
              "      <td>Aquele Abraço de Gilberto Gil</td>\n",
              "      <td>{'windowPageArgs': '{\"album_name\":\"Gilberto Gi...</td>\n",
              "      <td>{\"album_name\":\"Gilberto Gil\",\"artist_name\":\"Gi...</td>\n",
              "      <td>35941</td>\n",
              "      <td>O Rio de Janeiro continua lindo\\nO Rio de Jane...</td>\n",
              "    </tr>\n",
              "    <tr>\n",
              "      <th>52</th>\n",
              "      <td>Andar Com Fé</td>\n",
              "      <td>46184</td>\n",
              "      <td>https://www.letras.com/gilberto-gil/46184/</td>\n",
              "      <td>Andar Com Fé de Gilberto Gil</td>\n",
              "      <td>{'windowPageArgs': '{\"album_name\":\"Um Banda um...</td>\n",
              "      <td>{\"album_name\":\"Um Banda um\",\"artist_name\":\"Gil...</td>\n",
              "      <td>28743</td>\n",
              "      <td>Andá com fé eu vou\\nQue a fé não costuma faiá\\...</td>\n",
              "    </tr>\n",
              "    <tr>\n",
              "      <th>180</th>\n",
              "      <td>Drão</td>\n",
              "      <td>16133</td>\n",
              "      <td>https://www.letras.com/gilberto-gil/16133/</td>\n",
              "      <td>Drão de Gilberto Gil</td>\n",
              "      <td>{'windowPageArgs': '{\"album_name\":\"Um Banda um...</td>\n",
              "      <td>{\"album_name\":\"Um Banda um\",\"artist_name\":\"Gil...</td>\n",
              "      <td>21734</td>\n",
              "      <td>Drão!\\nO amor da gente é como um grão\\nUma sem...</td>\n",
              "    </tr>\n",
              "    <tr>\n",
              "      <th>583</th>\n",
              "      <td>Toda Menina Baiana</td>\n",
              "      <td>46249</td>\n",
              "      <td>https://www.letras.com/gilberto-gil/46249/</td>\n",
              "      <td>Toda Menina Baiana de Gilberto Gil</td>\n",
              "      <td>{'windowPageArgs': '{\"album_name\":\"Realce\",\"ar...</td>\n",
              "      <td>{\"album_name\":\"Realce\",\"artist_name\":\"Gilberto...</td>\n",
              "      <td>17566</td>\n",
              "      <td>Toda menina baiana tem\\nUm santo que Deus dá\\n...</td>\n",
              "    </tr>\n",
              "    <tr>\n",
              "      <th>205</th>\n",
              "      <td>Esperando Na Janela</td>\n",
              "      <td>46204</td>\n",
              "      <td>https://www.letras.com/gilberto-gil/46204/</td>\n",
              "      <td>Esperando Na Janela de Gilberto Gil</td>\n",
              "      <td>{'windowPageArgs': '{\"album_name\":\"Warner 25 A...</td>\n",
              "      <td>{\"album_name\":\"Warner 25 Anos\",\"artist_name\":\"...</td>\n",
              "      <td>16645</td>\n",
              "      <td>Ainda me lembro do seu caminhar\\nSeu jeito de ...</td>\n",
              "    </tr>\n",
              "  </tbody>\n",
              "</table>\n",
              "</div>\n",
              "      <button class=\"colab-df-convert\" onclick=\"convertToInteractive('df-f21c550d-6b03-4631-bccf-0b5a67be3b0e')\"\n",
              "              title=\"Convert this dataframe to an interactive table.\"\n",
              "              style=\"display:none;\">\n",
              "        \n",
              "  <svg xmlns=\"http://www.w3.org/2000/svg\" height=\"24px\"viewBox=\"0 0 24 24\"\n",
              "       width=\"24px\">\n",
              "    <path d=\"M0 0h24v24H0V0z\" fill=\"none\"/>\n",
              "    <path d=\"M18.56 5.44l.94 2.06.94-2.06 2.06-.94-2.06-.94-.94-2.06-.94 2.06-2.06.94zm-11 1L8.5 8.5l.94-2.06 2.06-.94-2.06-.94L8.5 2.5l-.94 2.06-2.06.94zm10 10l.94 2.06.94-2.06 2.06-.94-2.06-.94-.94-2.06-.94 2.06-2.06.94z\"/><path d=\"M17.41 7.96l-1.37-1.37c-.4-.4-.92-.59-1.43-.59-.52 0-1.04.2-1.43.59L10.3 9.45l-7.72 7.72c-.78.78-.78 2.05 0 2.83L4 21.41c.39.39.9.59 1.41.59.51 0 1.02-.2 1.41-.59l7.78-7.78 2.81-2.81c.8-.78.8-2.07 0-2.86zM5.41 20L4 18.59l7.72-7.72 1.47 1.35L5.41 20z\"/>\n",
              "  </svg>\n",
              "      </button>\n",
              "      \n",
              "  <style>\n",
              "    .colab-df-container {\n",
              "      display:flex;\n",
              "      flex-wrap:wrap;\n",
              "      gap: 12px;\n",
              "    }\n",
              "\n",
              "    .colab-df-convert {\n",
              "      background-color: #E8F0FE;\n",
              "      border: none;\n",
              "      border-radius: 50%;\n",
              "      cursor: pointer;\n",
              "      display: none;\n",
              "      fill: #1967D2;\n",
              "      height: 32px;\n",
              "      padding: 0 0 0 0;\n",
              "      width: 32px;\n",
              "    }\n",
              "\n",
              "    .colab-df-convert:hover {\n",
              "      background-color: #E2EBFA;\n",
              "      box-shadow: 0px 1px 2px rgba(60, 64, 67, 0.3), 0px 1px 3px 1px rgba(60, 64, 67, 0.15);\n",
              "      fill: #174EA6;\n",
              "    }\n",
              "\n",
              "    [theme=dark] .colab-df-convert {\n",
              "      background-color: #3B4455;\n",
              "      fill: #D2E3FC;\n",
              "    }\n",
              "\n",
              "    [theme=dark] .colab-df-convert:hover {\n",
              "      background-color: #434B5C;\n",
              "      box-shadow: 0px 1px 3px 1px rgba(0, 0, 0, 0.15);\n",
              "      filter: drop-shadow(0px 1px 2px rgba(0, 0, 0, 0.3));\n",
              "      fill: #FFFFFF;\n",
              "    }\n",
              "  </style>\n",
              "\n",
              "      <script>\n",
              "        const buttonEl =\n",
              "          document.querySelector('#df-f21c550d-6b03-4631-bccf-0b5a67be3b0e button.colab-df-convert');\n",
              "        buttonEl.style.display =\n",
              "          google.colab.kernel.accessAllowed ? 'block' : 'none';\n",
              "\n",
              "        async function convertToInteractive(key) {\n",
              "          const element = document.querySelector('#df-f21c550d-6b03-4631-bccf-0b5a67be3b0e');\n",
              "          const dataTable =\n",
              "            await google.colab.kernel.invokeFunction('convertToInteractive',\n",
              "                                                     [key], {});\n",
              "          if (!dataTable) return;\n",
              "\n",
              "          const docLinkHtml = 'Like what you see? Visit the ' +\n",
              "            '<a target=\"_blank\" href=https://colab.research.google.com/notebooks/data_table.ipynb>data table notebook</a>'\n",
              "            + ' to learn more about interactive tables.';\n",
              "          element.innerHTML = '';\n",
              "          dataTable['output_type'] = 'display_data';\n",
              "          await google.colab.output.renderOutput(dataTable, element);\n",
              "          const docLink = document.createElement('div');\n",
              "          docLink.innerHTML = docLinkHtml;\n",
              "          element.appendChild(docLink);\n",
              "        }\n",
              "      </script>\n",
              "    </div>\n",
              "  </div>\n",
              "  "
            ]
          },
          "metadata": {},
          "execution_count": 19
        }
      ]
    },
    {
      "cell_type": "code",
      "source": [
        "songsDF.loc[songsDF.views == -1]"
      ],
      "metadata": {
        "colab": {
          "base_uri": "https://localhost:8080/",
          "height": 194
        },
        "id": "ZPasxONRiQWL",
        "outputId": "c4ea1e2f-118f-4c2f-a442-bc4359d5c8fe"
      },
      "execution_count": null,
      "outputs": [
        {
          "output_type": "execute_result",
          "data": {
            "text/plain": [
              "          name letras_id                                             url  \\\n",
              "321  Mané João   3421587  https://www.letras.com/gilberto-gil/mane-joao/   \n",
              "\n",
              "                          text  \\\n",
              "321  Mané João de Gilberto Gil   \n",
              "\n",
              "                                      individualScrape  \\\n",
              "321  {'windowPageArgs': '{\"artist_name\":\"Gilberto G...   \n",
              "\n",
              "                                        windowPageArgs  views  \\\n",
              "321  {\"artist_name\":\"Gilberto Gil\",\"dns\":\"gilberto-...     -1   \n",
              "\n",
              "                                                lyrics  \n",
              "321  Lá na gafieira\\nDe Mané João\\nToda brincadeira...  "
            ],
            "text/html": [
              "\n",
              "  <div id=\"df-ed088ded-1d70-4868-a46e-3950e3deed7e\">\n",
              "    <div class=\"colab-df-container\">\n",
              "      <div>\n",
              "<style scoped>\n",
              "    .dataframe tbody tr th:only-of-type {\n",
              "        vertical-align: middle;\n",
              "    }\n",
              "\n",
              "    .dataframe tbody tr th {\n",
              "        vertical-align: top;\n",
              "    }\n",
              "\n",
              "    .dataframe thead th {\n",
              "        text-align: right;\n",
              "    }\n",
              "</style>\n",
              "<table border=\"1\" class=\"dataframe\">\n",
              "  <thead>\n",
              "    <tr style=\"text-align: right;\">\n",
              "      <th></th>\n",
              "      <th>name</th>\n",
              "      <th>letras_id</th>\n",
              "      <th>url</th>\n",
              "      <th>text</th>\n",
              "      <th>individualScrape</th>\n",
              "      <th>windowPageArgs</th>\n",
              "      <th>views</th>\n",
              "      <th>lyrics</th>\n",
              "    </tr>\n",
              "  </thead>\n",
              "  <tbody>\n",
              "    <tr>\n",
              "      <th>321</th>\n",
              "      <td>Mané João</td>\n",
              "      <td>3421587</td>\n",
              "      <td>https://www.letras.com/gilberto-gil/mane-joao/</td>\n",
              "      <td>Mané João de Gilberto Gil</td>\n",
              "      <td>{'windowPageArgs': '{\"artist_name\":\"Gilberto G...</td>\n",
              "      <td>{\"artist_name\":\"Gilberto Gil\",\"dns\":\"gilberto-...</td>\n",
              "      <td>-1</td>\n",
              "      <td>Lá na gafieira\\nDe Mané João\\nToda brincadeira...</td>\n",
              "    </tr>\n",
              "  </tbody>\n",
              "</table>\n",
              "</div>\n",
              "      <button class=\"colab-df-convert\" onclick=\"convertToInteractive('df-ed088ded-1d70-4868-a46e-3950e3deed7e')\"\n",
              "              title=\"Convert this dataframe to an interactive table.\"\n",
              "              style=\"display:none;\">\n",
              "        \n",
              "  <svg xmlns=\"http://www.w3.org/2000/svg\" height=\"24px\"viewBox=\"0 0 24 24\"\n",
              "       width=\"24px\">\n",
              "    <path d=\"M0 0h24v24H0V0z\" fill=\"none\"/>\n",
              "    <path d=\"M18.56 5.44l.94 2.06.94-2.06 2.06-.94-2.06-.94-.94-2.06-.94 2.06-2.06.94zm-11 1L8.5 8.5l.94-2.06 2.06-.94-2.06-.94L8.5 2.5l-.94 2.06-2.06.94zm10 10l.94 2.06.94-2.06 2.06-.94-2.06-.94-.94-2.06-.94 2.06-2.06.94z\"/><path d=\"M17.41 7.96l-1.37-1.37c-.4-.4-.92-.59-1.43-.59-.52 0-1.04.2-1.43.59L10.3 9.45l-7.72 7.72c-.78.78-.78 2.05 0 2.83L4 21.41c.39.39.9.59 1.41.59.51 0 1.02-.2 1.41-.59l7.78-7.78 2.81-2.81c.8-.78.8-2.07 0-2.86zM5.41 20L4 18.59l7.72-7.72 1.47 1.35L5.41 20z\"/>\n",
              "  </svg>\n",
              "      </button>\n",
              "      \n",
              "  <style>\n",
              "    .colab-df-container {\n",
              "      display:flex;\n",
              "      flex-wrap:wrap;\n",
              "      gap: 12px;\n",
              "    }\n",
              "\n",
              "    .colab-df-convert {\n",
              "      background-color: #E8F0FE;\n",
              "      border: none;\n",
              "      border-radius: 50%;\n",
              "      cursor: pointer;\n",
              "      display: none;\n",
              "      fill: #1967D2;\n",
              "      height: 32px;\n",
              "      padding: 0 0 0 0;\n",
              "      width: 32px;\n",
              "    }\n",
              "\n",
              "    .colab-df-convert:hover {\n",
              "      background-color: #E2EBFA;\n",
              "      box-shadow: 0px 1px 2px rgba(60, 64, 67, 0.3), 0px 1px 3px 1px rgba(60, 64, 67, 0.15);\n",
              "      fill: #174EA6;\n",
              "    }\n",
              "\n",
              "    [theme=dark] .colab-df-convert {\n",
              "      background-color: #3B4455;\n",
              "      fill: #D2E3FC;\n",
              "    }\n",
              "\n",
              "    [theme=dark] .colab-df-convert:hover {\n",
              "      background-color: #434B5C;\n",
              "      box-shadow: 0px 1px 3px 1px rgba(0, 0, 0, 0.15);\n",
              "      filter: drop-shadow(0px 1px 2px rgba(0, 0, 0, 0.3));\n",
              "      fill: #FFFFFF;\n",
              "    }\n",
              "  </style>\n",
              "\n",
              "      <script>\n",
              "        const buttonEl =\n",
              "          document.querySelector('#df-ed088ded-1d70-4868-a46e-3950e3deed7e button.colab-df-convert');\n",
              "        buttonEl.style.display =\n",
              "          google.colab.kernel.accessAllowed ? 'block' : 'none';\n",
              "\n",
              "        async function convertToInteractive(key) {\n",
              "          const element = document.querySelector('#df-ed088ded-1d70-4868-a46e-3950e3deed7e');\n",
              "          const dataTable =\n",
              "            await google.colab.kernel.invokeFunction('convertToInteractive',\n",
              "                                                     [key], {});\n",
              "          if (!dataTable) return;\n",
              "\n",
              "          const docLinkHtml = 'Like what you see? Visit the ' +\n",
              "            '<a target=\"_blank\" href=https://colab.research.google.com/notebooks/data_table.ipynb>data table notebook</a>'\n",
              "            + ' to learn more about interactive tables.';\n",
              "          element.innerHTML = '';\n",
              "          dataTable['output_type'] = 'display_data';\n",
              "          await google.colab.output.renderOutput(dataTable, element);\n",
              "          const docLink = document.createElement('div');\n",
              "          docLink.innerHTML = docLinkHtml;\n",
              "          element.appendChild(docLink);\n",
              "        }\n",
              "      </script>\n",
              "    </div>\n",
              "  </div>\n",
              "  "
            ]
          },
          "metadata": {},
          "execution_count": 20
        }
      ]
    },
    {
      "cell_type": "code",
      "source": [
        "songsDF.to_csv('df_coleta_letras_gilberto_gil.csv', index=False)"
      ],
      "metadata": {
        "id": "YtqCzOPviaRS"
      },
      "execution_count": null,
      "outputs": []
    },
    {
      "cell_type": "markdown",
      "source": [
        "## 2. Criação de nuvem de palavras <a name=\"Nuvem\"></a>"
      ],
      "metadata": {
        "id": "n9toVwQpKjuY"
      }
    },
    {
      "cell_type": "code",
      "source": [
        "import nltk\n",
        "from nltk import word_tokenize, sent_tokenize\n",
        "from nltk.corpus import stopwords\n",
        "from nltk import pos_tag\n",
        "from nltk.stem import PorterStemmer"
      ],
      "metadata": {
        "id": "mMJhgUuhKk1C"
      },
      "execution_count": null,
      "outputs": []
    },
    {
      "cell_type": "code",
      "source": [
        "nltk.download('stopwords')"
      ],
      "metadata": {
        "colab": {
          "base_uri": "https://localhost:8080/"
        },
        "id": "4F2AyMjOKlZK",
        "outputId": "6656ec3c-7933-40cf-b8f4-fe5abac00053"
      },
      "execution_count": null,
      "outputs": [
        {
          "output_type": "stream",
          "name": "stderr",
          "text": [
            "[nltk_data] Downloading package stopwords to /root/nltk_data...\n",
            "[nltk_data]   Unzipping corpora/stopwords.zip.\n"
          ]
        },
        {
          "output_type": "execute_result",
          "data": {
            "text/plain": [
              "True"
            ]
          },
          "metadata": {},
          "execution_count": 23
        }
      ]
    },
    {
      "cell_type": "code",
      "source": [
        "nltk.download('punkt')"
      ],
      "metadata": {
        "colab": {
          "base_uri": "https://localhost:8080/"
        },
        "id": "7jZtxHPfPLNj",
        "outputId": "c69430b0-19a0-4053-bcf2-a76040a8cdea"
      },
      "execution_count": null,
      "outputs": [
        {
          "output_type": "stream",
          "name": "stderr",
          "text": [
            "[nltk_data] Downloading package punkt to /root/nltk_data...\n",
            "[nltk_data]   Unzipping tokenizers/punkt.zip.\n"
          ]
        },
        {
          "output_type": "execute_result",
          "data": {
            "text/plain": [
              "True"
            ]
          },
          "metadata": {},
          "execution_count": 24
        }
      ]
    },
    {
      "cell_type": "code",
      "source": [
        "# lista de stopwords em pt-br\n",
        "\n",
        "stopwords_ptbr = stopwords.words('portuguese')\n",
        "stopwords_eng = stopwords.words('english')\n",
        "stopwords_fra = stopwords.words('french')\n",
        "\n",
        "# ampliar a lista de stopwords com outras expressões que estão presentes nas letras das músicas\n",
        "novas_palavras = ['oh', 'sei', 'cada', 'tá', 'dum', 'ó', 'tê', 'obá', 'sobre', 'quém', 'bat', 'dizer', 'ter', 'ficar', 'fazer' 'gente', 'grande', 'qualquer', 'dentro', 'alguém', 'diz', 'disse', 'vê', 'aí', 'outra', 'então', 'lado', 'tanta', 'iê', 'quase', 'pois']\n",
        "\n",
        "stopwords_ptbr.extend(novas_palavras)"
      ],
      "metadata": {
        "id": "qh9V8ncvKxXB"
      },
      "execution_count": null,
      "outputs": []
    },
    {
      "cell_type": "code",
      "source": [
        "# criar função processingTxt para preservar termos compostos e separar palavras que estão unidas e não deveriam estar\n",
        "\n",
        "def processingTxt(txt):\n",
        "    return txt.replace('expresso 2222', 'expresso_2222').replace('nova deli', 'nova_deli').replace('a gente', 'a_gente').replace('favelainferno', 'favela inferno').replace('pensamentoé', 'pensamento é')"
      ],
      "metadata": {
        "id": "zSHg1G_7K3RJ"
      },
      "execution_count": null,
      "outputs": []
    },
    {
      "cell_type": "code",
      "source": [
        "songsDF['name'].count()"
      ],
      "metadata": {
        "colab": {
          "base_uri": "https://localhost:8080/"
        },
        "id": "cJ6gsPwFnwSE",
        "outputId": "e1458cad-9388-482c-f0df-79877f2095ef"
      },
      "execution_count": null,
      "outputs": [
        {
          "output_type": "execute_result",
          "data": {
            "text/plain": [
              "638"
            ]
          },
          "metadata": {},
          "execution_count": 27
        }
      ]
    },
    {
      "cell_type": "code",
      "source": [
        "# excluir músicas duplicadas\n",
        "songsDF_unicas = songsDF.drop_duplicates(subset='name')\n",
        "songsDF_unicas.head(2)"
      ],
      "metadata": {
        "colab": {
          "base_uri": "https://localhost:8080/"
        },
        "id": "AWP1eHzRf-rZ",
        "outputId": "70149d86-845a-430d-a6b7-e1b45405a7d5"
      },
      "execution_count": null,
      "outputs": [
        {
          "output_type": "execute_result",
          "data": {
            "text/plain": [
              "               name letras_id  \\\n",
              "0  17 Léguas e Meia   1571967   \n",
              "1    17 Na Corrente   2167336   \n",
              "\n",
              "                                                 url  \\\n",
              "0       https://www.letras.com/gilberto-gil/1571967/   \n",
              "1  https://www.letras.com/gilberto-gil/17-na-corr...   \n",
              "\n",
              "                               text  \\\n",
              "0  17 Léguas e Meia de Gilberto Gil   \n",
              "1    17 Na Corrente de Gilberto Gil   \n",
              "\n",
              "                                    individualScrape  \\\n",
              "0  {'windowPageArgs': '{\"album_name\":\"Gilberto Gi...   \n",
              "1  {'windowPageArgs': '{\"album_name\":\"O Sol de Os...   \n",
              "\n",
              "                                      windowPageArgs  views  \\\n",
              "0  {\"album_name\":\"Gilberto Gil\",\"artist_name\":\"Gi...    126   \n",
              "1  {\"album_name\":\"O Sol de Oslo\",\"artist_name\":\"G...     43   \n",
              "\n",
              "                                              lyrics  \n",
              "0  Eu já andei sem parar dezessete légua e meia\\n...  \n",
              "1  Macaco não é valente\\nDança aí 17 na corrente....  "
            ],
            "text/html": [
              "\n",
              "  <div id=\"df-b8030380-cb98-4e4c-aaac-f3431e8ca504\">\n",
              "    <div class=\"colab-df-container\">\n",
              "      <div>\n",
              "<style scoped>\n",
              "    .dataframe tbody tr th:only-of-type {\n",
              "        vertical-align: middle;\n",
              "    }\n",
              "\n",
              "    .dataframe tbody tr th {\n",
              "        vertical-align: top;\n",
              "    }\n",
              "\n",
              "    .dataframe thead th {\n",
              "        text-align: right;\n",
              "    }\n",
              "</style>\n",
              "<table border=\"1\" class=\"dataframe\">\n",
              "  <thead>\n",
              "    <tr style=\"text-align: right;\">\n",
              "      <th></th>\n",
              "      <th>name</th>\n",
              "      <th>letras_id</th>\n",
              "      <th>url</th>\n",
              "      <th>text</th>\n",
              "      <th>individualScrape</th>\n",
              "      <th>windowPageArgs</th>\n",
              "      <th>views</th>\n",
              "      <th>lyrics</th>\n",
              "    </tr>\n",
              "  </thead>\n",
              "  <tbody>\n",
              "    <tr>\n",
              "      <th>0</th>\n",
              "      <td>17 Léguas e Meia</td>\n",
              "      <td>1571967</td>\n",
              "      <td>https://www.letras.com/gilberto-gil/1571967/</td>\n",
              "      <td>17 Léguas e Meia de Gilberto Gil</td>\n",
              "      <td>{'windowPageArgs': '{\"album_name\":\"Gilberto Gi...</td>\n",
              "      <td>{\"album_name\":\"Gilberto Gil\",\"artist_name\":\"Gi...</td>\n",
              "      <td>126</td>\n",
              "      <td>Eu já andei sem parar dezessete légua e meia\\n...</td>\n",
              "    </tr>\n",
              "    <tr>\n",
              "      <th>1</th>\n",
              "      <td>17 Na Corrente</td>\n",
              "      <td>2167336</td>\n",
              "      <td>https://www.letras.com/gilberto-gil/17-na-corr...</td>\n",
              "      <td>17 Na Corrente de Gilberto Gil</td>\n",
              "      <td>{'windowPageArgs': '{\"album_name\":\"O Sol de Os...</td>\n",
              "      <td>{\"album_name\":\"O Sol de Oslo\",\"artist_name\":\"G...</td>\n",
              "      <td>43</td>\n",
              "      <td>Macaco não é valente\\nDança aí 17 na corrente....</td>\n",
              "    </tr>\n",
              "  </tbody>\n",
              "</table>\n",
              "</div>\n",
              "      <button class=\"colab-df-convert\" onclick=\"convertToInteractive('df-b8030380-cb98-4e4c-aaac-f3431e8ca504')\"\n",
              "              title=\"Convert this dataframe to an interactive table.\"\n",
              "              style=\"display:none;\">\n",
              "        \n",
              "  <svg xmlns=\"http://www.w3.org/2000/svg\" height=\"24px\"viewBox=\"0 0 24 24\"\n",
              "       width=\"24px\">\n",
              "    <path d=\"M0 0h24v24H0V0z\" fill=\"none\"/>\n",
              "    <path d=\"M18.56 5.44l.94 2.06.94-2.06 2.06-.94-2.06-.94-.94-2.06-.94 2.06-2.06.94zm-11 1L8.5 8.5l.94-2.06 2.06-.94-2.06-.94L8.5 2.5l-.94 2.06-2.06.94zm10 10l.94 2.06.94-2.06 2.06-.94-2.06-.94-.94-2.06-.94 2.06-2.06.94z\"/><path d=\"M17.41 7.96l-1.37-1.37c-.4-.4-.92-.59-1.43-.59-.52 0-1.04.2-1.43.59L10.3 9.45l-7.72 7.72c-.78.78-.78 2.05 0 2.83L4 21.41c.39.39.9.59 1.41.59.51 0 1.02-.2 1.41-.59l7.78-7.78 2.81-2.81c.8-.78.8-2.07 0-2.86zM5.41 20L4 18.59l7.72-7.72 1.47 1.35L5.41 20z\"/>\n",
              "  </svg>\n",
              "      </button>\n",
              "      \n",
              "  <style>\n",
              "    .colab-df-container {\n",
              "      display:flex;\n",
              "      flex-wrap:wrap;\n",
              "      gap: 12px;\n",
              "    }\n",
              "\n",
              "    .colab-df-convert {\n",
              "      background-color: #E8F0FE;\n",
              "      border: none;\n",
              "      border-radius: 50%;\n",
              "      cursor: pointer;\n",
              "      display: none;\n",
              "      fill: #1967D2;\n",
              "      height: 32px;\n",
              "      padding: 0 0 0 0;\n",
              "      width: 32px;\n",
              "    }\n",
              "\n",
              "    .colab-df-convert:hover {\n",
              "      background-color: #E2EBFA;\n",
              "      box-shadow: 0px 1px 2px rgba(60, 64, 67, 0.3), 0px 1px 3px 1px rgba(60, 64, 67, 0.15);\n",
              "      fill: #174EA6;\n",
              "    }\n",
              "\n",
              "    [theme=dark] .colab-df-convert {\n",
              "      background-color: #3B4455;\n",
              "      fill: #D2E3FC;\n",
              "    }\n",
              "\n",
              "    [theme=dark] .colab-df-convert:hover {\n",
              "      background-color: #434B5C;\n",
              "      box-shadow: 0px 1px 3px 1px rgba(0, 0, 0, 0.15);\n",
              "      filter: drop-shadow(0px 1px 2px rgba(0, 0, 0, 0.3));\n",
              "      fill: #FFFFFF;\n",
              "    }\n",
              "  </style>\n",
              "\n",
              "      <script>\n",
              "        const buttonEl =\n",
              "          document.querySelector('#df-b8030380-cb98-4e4c-aaac-f3431e8ca504 button.colab-df-convert');\n",
              "        buttonEl.style.display =\n",
              "          google.colab.kernel.accessAllowed ? 'block' : 'none';\n",
              "\n",
              "        async function convertToInteractive(key) {\n",
              "          const element = document.querySelector('#df-b8030380-cb98-4e4c-aaac-f3431e8ca504');\n",
              "          const dataTable =\n",
              "            await google.colab.kernel.invokeFunction('convertToInteractive',\n",
              "                                                     [key], {});\n",
              "          if (!dataTable) return;\n",
              "\n",
              "          const docLinkHtml = 'Like what you see? Visit the ' +\n",
              "            '<a target=\"_blank\" href=https://colab.research.google.com/notebooks/data_table.ipynb>data table notebook</a>'\n",
              "            + ' to learn more about interactive tables.';\n",
              "          element.innerHTML = '';\n",
              "          dataTable['output_type'] = 'display_data';\n",
              "          await google.colab.output.renderOutput(dataTable, element);\n",
              "          const docLink = document.createElement('div');\n",
              "          docLink.innerHTML = docLinkHtml;\n",
              "          element.appendChild(docLink);\n",
              "        }\n",
              "      </script>\n",
              "    </div>\n",
              "  </div>\n",
              "  "
            ]
          },
          "metadata": {},
          "execution_count": 28
        }
      ]
    },
    {
      "cell_type": "code",
      "source": [
        "# deixar letras de músicas em caixa baixa, criar a coluna '[letras_musicas] e aplicar função processingTxt\n",
        "\n",
        "songsDF_unicas['letras_musicas'] = songsDF_unicas['lyrics'].str.lower()\n",
        "songsDF_unicas['letras_musicas'] = songsDF_unicas['letras_musicas'].fillna('-').apply(lambda x: processingTxt(x))"
      ],
      "metadata": {
        "id": "qc0aeq61K6sh",
        "colab": {
          "base_uri": "https://localhost:8080/"
        },
        "outputId": "e20b3af7-242e-4bf2-fe11-9afff403cf50"
      },
      "execution_count": null,
      "outputs": [
        {
          "output_type": "stream",
          "name": "stderr",
          "text": [
            "/usr/local/lib/python3.7/dist-packages/ipykernel_launcher.py:3: SettingWithCopyWarning: \n",
            "A value is trying to be set on a copy of a slice from a DataFrame.\n",
            "Try using .loc[row_indexer,col_indexer] = value instead\n",
            "\n",
            "See the caveats in the documentation: https://pandas.pydata.org/pandas-docs/stable/user_guide/indexing.html#returning-a-view-versus-a-copy\n",
            "  This is separate from the ipykernel package so we can avoid doing imports until\n",
            "/usr/local/lib/python3.7/dist-packages/ipykernel_launcher.py:4: SettingWithCopyWarning: \n",
            "A value is trying to be set on a copy of a slice from a DataFrame.\n",
            "Try using .loc[row_indexer,col_indexer] = value instead\n",
            "\n",
            "See the caveats in the documentation: https://pandas.pydata.org/pandas-docs/stable/user_guide/indexing.html#returning-a-view-versus-a-copy\n",
            "  after removing the cwd from sys.path.\n"
          ]
        }
      ]
    },
    {
      "cell_type": "code",
      "source": [
        "def encontrarPalavras(letras):\n",
        "\n",
        "    # criar lista com letras das músicas após retirar o separador\n",
        "    letras_separadas = list()\n",
        "\n",
        "    for letra_musica in letras:\n",
        "      letra_musica = letra_musica.lower()\n",
        "      letra_musica_separada = letra_musica.split('\\n')\n",
        "      letras_separadas.append(letra_musica_separada)\n",
        "\n",
        "    # criar variável para tokenizador\n",
        "    tokenizador = nltk.WhitespaceTokenizer()\n",
        "\n",
        "    # criar lista com letras das músicas após tokenização\n",
        "    tokens = list()\n",
        "\n",
        "    for letra in letras_separadas:\n",
        "      for frase in letra:\n",
        "        frase_tokenizada = tokenizador.tokenize(frase)\n",
        "        tokens.append(frase_tokenizada)\n",
        "\n",
        "    # criar lista com palavras sem pontuação e caracteres especiais\n",
        "    token_sem_pontuacao = list()\n",
        "\n",
        "    for token in tokens:\n",
        "      for palavra in token:\n",
        "        novo_token = palavra.translate ({ord(c): \"\" for c in \"'…‘“”!@#$%^&*()[]{};:.,/–-<>?\\|`~=+\"})\n",
        "        token_sem_pontuacao.append(novo_token)\n",
        "\n",
        "    # criar lista com palavras fora da lista de stopwords\n",
        "    palavras_fora_stopwords = list()\n",
        "\n",
        "    for palavra in token_sem_pontuacao:\n",
        "      if palavra not in stopwords_ptbr and palavra not in stopwords_eng and palavra not in stopwords_fra:\n",
        "        palavras_fora_stopwords.append(palavra)\n",
        "\n",
        "    # criar dataframe com as palavras que não estão na lista de stopwords\n",
        "    df_palavras_coluna = pd.DataFrame(palavras_fora_stopwords)\n",
        "\n",
        "    df_palavras_coluna.rename(columns={0: 'palavras'}, inplace=True)\n",
        "\n",
        "    # criação da coluna 'repetições'\n",
        "    df_palavras_coluna['repetições'] = 1\n",
        "        \n",
        "    # remover underline\n",
        "    df_palavras_coluna['palavras'] = df_palavras_coluna['palavras'].str.replace('_', ' ')\n",
        "    df_palavras_coluna['palavras'] = df_palavras_coluna['palavras'].str.replace('\"', '')\n",
        "\n",
        "    return df_palavras_coluna"
      ],
      "metadata": {
        "id": "puVzQMIS__eG"
      },
      "execution_count": null,
      "outputs": []
    },
    {
      "cell_type": "code",
      "source": [
        "nuvem_de_palavras = encontrarPalavras(songsDF_unicas['letras_musicas'])"
      ],
      "metadata": {
        "id": "3W2sGnYRFPLP"
      },
      "execution_count": null,
      "outputs": []
    },
    {
      "cell_type": "code",
      "source": [
        "df_nuvem = nuvem_de_palavras.groupby('palavras').sum().sort_values(by='repetições', ascending=False).reset_index()\n",
        "df_nuvem.info()"
      ],
      "metadata": {
        "colab": {
          "base_uri": "https://localhost:8080/"
        },
        "id": "0yCOE1hXACJ7",
        "outputId": "a5b0461d-478f-43b3-8bb5-9434150f45c6"
      },
      "execution_count": null,
      "outputs": [
        {
          "output_type": "stream",
          "name": "stdout",
          "text": [
            "<class 'pandas.core.frame.DataFrame'>\n",
            "RangeIndex: 10303 entries, 0 to 10302\n",
            "Data columns (total 2 columns):\n",
            " #   Column      Non-Null Count  Dtype \n",
            "---  ------      --------------  ----- \n",
            " 0   palavras    10303 non-null  object\n",
            " 1   repetições  10303 non-null  int64 \n",
            "dtypes: int64(1), object(1)\n",
            "memory usage: 161.1+ KB\n"
          ]
        }
      ]
    },
    {
      "cell_type": "code",
      "source": [
        "df_nuvem.to_csv('df_nuvem_de_palavras.csv', index=False)"
      ],
      "metadata": {
        "id": "IxgbpP7CACMh"
      },
      "execution_count": null,
      "outputs": []
    },
    {
      "cell_type": "code",
      "source": [
        "df_nuvem['repetições'].unique()"
      ],
      "metadata": {
        "colab": {
          "base_uri": "https://localhost:8080/"
        },
        "id": "SieU5b0oDtKO",
        "outputId": "4fcd6fe5-5702-413f-9b48-7132f1e01d95"
      },
      "execution_count": null,
      "outputs": [
        {
          "output_type": "execute_result",
          "data": {
            "text/plain": [
              "array([647, 411, 248, 247, 235, 227, 225, 224, 210, 195, 192, 188, 187,\n",
              "       184, 180, 166, 161, 160, 158, 156, 153, 152, 150, 148, 140, 138,\n",
              "       134, 132, 131, 121, 116, 115, 113, 111, 110, 109, 108, 106, 101,\n",
              "        99,  98,  91,  90,  89,  88,  87,  86,  83,  82,  79,  77,  73,\n",
              "        72,  71,  70,  68,  66,  65,  64,  63,  62,  61,  60,  59,  56,\n",
              "        55,  54,  53,  52,  51,  50,  49,  48,  47,  46,  45,  44,  43,\n",
              "        42,  41,  40,  39,  38,  37,  36,  35,  34,  33,  32,  31,  30,\n",
              "        29,  28,  27,  26,  25,  24,  23,  22,  21,  20,  19,  18,  17,\n",
              "        16,  15,  14,  13,  12,  11,  10,   9,   8,   7,   6,   5,   4,\n",
              "         3,   2,   1])"
            ]
          },
          "metadata": {},
          "execution_count": 34
        }
      ]
    },
    {
      "cell_type": "code",
      "source": [
        "palavras_40_repeticoes = df_nuvem[df_nuvem['repetições'].isin([411, 247, 224, 195, 188, 158, 156, 153, 152, 140, 138, 134, 132, 121, 113, 108, 107, 101,  91,  90,  88,  87,  86,  83,  82,  79, 77,  73,  72,  71,  68,  66,  65,  64,  63,  61,  60,  58,  57, 56,  55,  54,  53,  52,  51,  50,  49,  48,  47,  46,  45,  44, 43,  42,  41,  40])]"
      ],
      "metadata": {
        "id": "epvKqRVWCvn0"
      },
      "execution_count": null,
      "outputs": []
    },
    {
      "cell_type": "code",
      "source": [
        "palavras_40_repeticoes.to_csv('df_nuvem_palavras_40_repeticoes.csv', index=False)"
      ],
      "metadata": {
        "id": "d0DyZT55DUz2"
      },
      "execution_count": null,
      "outputs": []
    },
    {
      "cell_type": "code",
      "source": [
        "# informações palavra mais repetida\n",
        "musicas_amor = songsDF_unicas[songsDF_unicas['letras_musicas'].str.contains('amor')]"
      ],
      "metadata": {
        "id": "Ni3cvTUsj8WC"
      },
      "execution_count": null,
      "outputs": []
    },
    {
      "cell_type": "code",
      "source": [
        "print('A palavra mais frequente, \"Amor\", apareceu em', musicas_amor['name'].nunique(), 'do total de', songsDF_unicas['name'].nunique(), 'músicas coletadas.')"
      ],
      "metadata": {
        "colab": {
          "base_uri": "https://localhost:8080/"
        },
        "id": "VRdyFKrhplGX",
        "outputId": "c4597bd6-7d2e-404b-c9e3-efc2e76d1068"
      },
      "execution_count": null,
      "outputs": [
        {
          "output_type": "stream",
          "name": "stdout",
          "text": [
            "A palavra mais frequente, \"Amor\", apareceu em 220 do total de 635 músicas coletadas.\n"
          ]
        }
      ]
    },
    {
      "cell_type": "code",
      "source": [
        "print(df_nuvem['palavras'].nunique(), 'ocorrências (palavras, formas ou vocábulos)')"
      ],
      "metadata": {
        "colab": {
          "base_uri": "https://localhost:8080/"
        },
        "id": "KzzVv_E6p4mU",
        "outputId": "d0b76e27-06e9-48cc-b78e-58942457be9e"
      },
      "execution_count": null,
      "outputs": [
        {
          "output_type": "stream",
          "name": "stdout",
          "text": [
            "10303 ocorrências (palavras, formas ou vocábulos)\n"
          ]
        }
      ]
    },
    {
      "cell_type": "code",
      "source": [
        "print(df_nuvem[df_nuvem['repetições'] != 1]['palavras'].nunique(), 'palavras se repetem')"
      ],
      "metadata": {
        "colab": {
          "base_uri": "https://localhost:8080/"
        },
        "id": "4D6QcOCrp42X",
        "outputId": "bcbbb43c-0cf7-4b6a-f27b-891d88c97799"
      },
      "execution_count": null,
      "outputs": [
        {
          "output_type": "stream",
          "name": "stdout",
          "text": [
            "4857 palavras se repetem\n"
          ]
        }
      ]
    },
    {
      "cell_type": "code",
      "source": [
        "print(df_nuvem[df_nuvem['repetições'] == 1]['palavras'].nunique(), 'palavras têm uma única ocorrência.')"
      ],
      "metadata": {
        "colab": {
          "base_uri": "https://localhost:8080/"
        },
        "id": "j98VHw_oqHJs",
        "outputId": "ecfb016d-1ee1-4156-ae50-a2ffb3fc8191"
      },
      "execution_count": null,
      "outputs": [
        {
          "output_type": "stream",
          "name": "stdout",
          "text": [
            "5446 palavras têm uma única ocorrência.\n"
          ]
        }
      ]
    }
  ]
}